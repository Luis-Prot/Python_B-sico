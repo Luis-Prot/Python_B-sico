{
 "cells": [
  {
   "cell_type": "code",
   "execution_count": 9,
   "metadata": {
    "collapsed": true
   },
   "outputs": [],
   "source": [
    "file = open('DATA/sequence.fasta',\"r\")"
   ]
  },
  {
   "cell_type": "code",
   "execution_count": 10,
   "metadata": {
    "collapsed": true
   },
   "outputs": [],
   "source": [
    "header = file.readline()"
   ]
  },
  {
   "cell_type": "code",
   "execution_count": 11,
   "metadata": {
    "collapsed": false
   },
   "outputs": [
    {
     "data": {
      "text/plain": [
       "'>SCA48104.1 HA, partial [Influenza A virus (A/chicken/Morocco/SF5/2016(H9N2))]\\n'"
      ]
     },
     "execution_count": 11,
     "metadata": {},
     "output_type": "execute_result"
    }
   ],
   "source": [
    "header"
   ]
  },
  {
   "cell_type": "code",
   "execution_count": 12,
   "metadata": {
    "collapsed": true
   },
   "outputs": [],
   "source": [
    "lineas = file.readlines()"
   ]
  },
  {
   "cell_type": "code",
   "execution_count": 13,
   "metadata": {
    "collapsed": false
   },
   "outputs": [
    {
     "data": {
      "text/plain": [
       "['MEAISLMTILLVVTTSNADKICIGHQSTNSTETVDTLTETNVPVTQAKELLHTEHNGMLCATNLGRPLIL\\n',\n",
       " 'DTCTIEGLIYGNPSCDMLLGGREWSYIVERPSAVNGTCYPGNVENLEELRTLFSSSSSYQRVQLFPDSIW\\n',\n",
       " 'NVTYTGTSKSCSDSFYRNMRWLTQKNGGYPIQDAQYTNNRGKDILFVWGIHHPPTDTAQTNLYTRTDTTT\\n',\n",
       " 'SVTTETLDRTFKPLIGPRPLVNGLIGRINYYWSVLKPGQTLRVRSNGNLIAPWFGHVLSGESHVRILRTD\\n',\n",
       " 'LSSGNCVVQCQTEKGGLNSTMPFHNISKYAFGTCPKYIGVKSLKLAIGLRNVHARSSRGLFGAIAGFIEG\\n',\n",
       " 'GWPGLVAGWYGFQHSNDQGVGMAADRVSTQKAVDKITSKVNNIVDKMNKQYEIIDHEFSEVETRLNMINN\\n',\n",
       " 'KIDDQIQDIWAYNAELLVLLENQKTLDEHDANVNNLYNKVKRALGSNAMEDGKGCFELYHKCDDQCMETI\\n',\n",
       " 'RNGTYNRRKYTEESRLERQKIEGVKLEAEGTYKILSIYSTVASSLVLAMGFAAFLFWAMSNGSCRCNICI\\n',\n",
       " '\\n']"
      ]
     },
     "execution_count": 13,
     "metadata": {},
     "output_type": "execute_result"
    }
   ],
   "source": [
    "lineas"
   ]
  },
  {
   "cell_type": "code",
   "execution_count": 15,
   "metadata": {
    "collapsed": false
   },
   "outputs": [],
   "source": [
    "seq_uniq = \"\".join(lineas)"
   ]
  },
  {
   "cell_type": "code",
   "execution_count": 16,
   "metadata": {
    "collapsed": false
   },
   "outputs": [
    {
     "data": {
      "text/plain": [
       "'MEAISLMTILLVVTTSNADKICIGHQSTNSTETVDTLTETNVPVTQAKELLHTEHNGMLCATNLGRPLIL\\nDTCTIEGLIYGNPSCDMLLGGREWSYIVERPSAVNGTCYPGNVENLEELRTLFSSSSSYQRVQLFPDSIW\\nNVTYTGTSKSCSDSFYRNMRWLTQKNGGYPIQDAQYTNNRGKDILFVWGIHHPPTDTAQTNLYTRTDTTT\\nSVTTETLDRTFKPLIGPRPLVNGLIGRINYYWSVLKPGQTLRVRSNGNLIAPWFGHVLSGESHVRILRTD\\nLSSGNCVVQCQTEKGGLNSTMPFHNISKYAFGTCPKYIGVKSLKLAIGLRNVHARSSRGLFGAIAGFIEG\\nGWPGLVAGWYGFQHSNDQGVGMAADRVSTQKAVDKITSKVNNIVDKMNKQYEIIDHEFSEVETRLNMINN\\nKIDDQIQDIWAYNAELLVLLENQKTLDEHDANVNNLYNKVKRALGSNAMEDGKGCFELYHKCDDQCMETI\\nRNGTYNRRKYTEESRLERQKIEGVKLEAEGTYKILSIYSTVASSLVLAMGFAAFLFWAMSNGSCRCNICI\\n\\n'"
      ]
     },
     "execution_count": 16,
     "metadata": {},
     "output_type": "execute_result"
    }
   ],
   "source": [
    "seq_uniq"
   ]
  },
  {
   "cell_type": "code",
   "execution_count": 19,
   "metadata": {
    "collapsed": false
   },
   "outputs": [],
   "source": [
    "sequence = seq_uniq.replace(\"\\n\",\"\")"
   ]
  },
  {
   "cell_type": "code",
   "execution_count": 20,
   "metadata": {
    "collapsed": false
   },
   "outputs": [
    {
     "data": {
      "text/plain": [
       "51"
      ]
     },
     "execution_count": 20,
     "metadata": {},
     "output_type": "execute_result"
    }
   ],
   "source": [
    "sequence.count('L')"
   ]
  },
  {
   "cell_type": "code",
   "execution_count": 21,
   "metadata": {
    "collapsed": true
   },
   "outputs": [],
   "source": [
    "por_L = sequence.count('L') / len(sequence) * 100"
   ]
  },
  {
   "cell_type": "code",
   "execution_count": 22,
   "metadata": {
    "collapsed": false
   },
   "outputs": [
    {
     "data": {
      "text/plain": [
       "9.107142857142856"
      ]
     },
     "execution_count": 22,
     "metadata": {},
     "output_type": "execute_result"
    }
   ],
   "source": [
    "por_L"
   ]
  },
  {
   "cell_type": "code",
   "execution_count": 23,
   "metadata": {
    "collapsed": false
   },
   "outputs": [
    {
     "data": {
      "text/plain": [
       "5"
      ]
     },
     "execution_count": 23,
     "metadata": {},
     "output_type": "execute_result"
    }
   ],
   "source": [
    "sequence.count('ST')"
   ]
  }
 ],
 "metadata": {
  "kernelspec": {
   "display_name": "Python 3",
   "language": "python",
   "name": "python3"
  },
  "language_info": {
   "codemirror_mode": {
    "name": "ipython",
    "version": 3
   },
   "file_extension": ".py",
   "mimetype": "text/x-python",
   "name": "python",
   "nbconvert_exporter": "python",
   "pygments_lexer": "ipython3",
   "version": "3.5.3"
  }
 },
 "nbformat": 4,
 "nbformat_minor": 2
}
