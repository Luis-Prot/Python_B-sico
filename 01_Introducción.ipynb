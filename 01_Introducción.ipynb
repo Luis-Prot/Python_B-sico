{
 "cells": [
  {
   "cell_type": "markdown",
   "metadata": {},
   "source": [
    "[![imagenes](imagenes/ISCB.png)](http://rsg-mexico.iscbsc.org/)"
   ]
  },
  {
   "cell_type": "markdown",
   "metadata": {},
   "source": [
    "# Curso de Python Básico\n",
    "\n",
    "## Biol. Luis Eloy Homobono Fuentes\n",
    "\n",
    "### [luis.homobono@ciencias.unam.mx](mailto:luis.homobono@ciencias.unam.mx)\n",
    "\n",
    "### [Facebook](https://www.facebook.com/Luis.Eloy.Hom)\n",
    "\n",
    "### [Twitter](https://twitter.com/evo_eloy)\n",
    "\n",
    "### [GitHub](https://github.com/Luis-Prot)"
   ]
  },
  {
   "cell_type": "markdown",
   "metadata": {},
   "source": [
    "## Introducción\n",
    "\n",
    "Python es un lenguaje de programación creado por Guido Van Rossun a inicios de 1991.\n",
    "\n",
    "Se **caracteriza** por:\n",
    "- **Ser un leguaje de alto nivel.** Esto quiere decir que presenta gramatica sencilla, clara y muy legible.\n",
    "- **Tipado dinamico y fuerte.** No necesitas asignar el tipo de la variable y se respeta su tipo.\n",
    "- **Interpretado.** No necesita de un programa para ser compilado, las instrucciones se interpretan directamente.\n",
    "- **Versatil.** Sirve para crear cualquier tipo de interpretación.\n",
    "- **Multiplataforma.** Util para cualquier S.O.\n",
    "- **Implementa diferentes Paradigmas de Programación.** POO, Programación Funcional, Programación Procesal, Programación imperativa.\n",
    "- **Librerias estandar es amplia.** Funciones y modulos proporcionados por defecto facilitan su gran uso.\n",
    "- **Open Source.** Es distribuido de forma libre\n",
    "- **Facil de aprender.** Tiene una curva de aprendizaje es suave."
   ]
  },
  {
   "cell_type": "markdown",
   "metadata": {},
   "source": [
    "## Aplicaciones de Python.\n",
    "\n",
    "Al ser un lenguaje multipropósito y altamente portable, Python se ha utilizado para desarrollar:\n",
    "\n",
    "* Aplicaciones de escritorio.\n",
    "* Aplicaciones web.\n",
    "* Análisis de datos.\n",
    "* Cómputo científico.\n",
    "* Análisis de lenguaje natural.\n",
    "* Visión artificial.\n",
    "* Animación, videojuegos e imágenes generadas por computadora.\n",
    "* Aplicaciones móviles."
   ]
  },
  {
   "cell_type": "markdown",
   "metadata": {},
   "source": [
    "## Especificaciones de Instalación\n",
    "\n",
    "## Instalación.\n",
    "\n",
    "Las principales distribuciones de GNU/Linux, los sistemas \\*BSD, así como Mac OS X y la mayoría de los UNIX vienen al menos con Python 2 preinstalado. Del mismo modo, las principales distribuciones de GNU/Linux cuentan con paquetes de instalación de Python 3.\n",
    "\n",
    "Las versiones más recientes de Python pueden ser descargadas desde [el sitio principal de Python](http://python.org) incluyendo binarios para Mac OS X y Windows e incluso es posible descargar el código fuente.\n",
    "\n",
    "### Recomendación\n",
    "\n",
    "**Nota:** [Anaconda](https://www.anaconda.com/distribution/) es una distribución de Python 2 y Python 3 especializada en cómputo científico, sin embargo es de muy fácil instalación y gestión tanto en Windows como en Mac OS X y GNU/Linux. Es una alternativa muy recomendable a las versiones oficiales de Python.\n",
    "\n",
    "Mis recomandaciones personales son:\n",
    "- 2 o más GB de RAM\n",
    "- 10 GB en disco duro"
   ]
  },
  {
   "cell_type": "markdown",
   "metadata": {},
   "source": [
    "## Breve introducción a los lenguajes de programación.\n",
    "\n",
    "Un lenguaje es un conjunto de cadenas de símbolos con los que se pueden crear mensajes.\n",
    "\n",
    "Los lenguajes constan principamente de la gramática, la cual trata sobre la construcción del lenguaje, y la semántica, la cual trata sobre el significado del lenguaje.\n",
    "\n",
    "A su vez, la gramática consta de: \n",
    "\n",
    "* Morfología: cómo se construyen las notaciones (género, tiempos, declinaciones).\n",
    "* Sintaxis: cómo se deben escribir las notaciones (orden, estructura).\n",
    "\n",
    "Durante el siglo XX, los científicos [Alan Turing](https://en.wikipedia.org/wiki/Alan_Turing) y [Alonzo Church](https://en.wikipedia.org/wiki/Alonzo_Church) fundaron las bases del cómputo, la programación y sus lenguajes."
   ]
  },
  {
   "cell_type": "markdown",
   "metadata": {},
   "source": [
    "### Lenguajes de alto y bajo nivel.\n",
    "\n",
    "Los **lenguajes de bajo nivel** constan de un conjunto básico de instrucciones que son ejecutados directamente por la unidad de procesamiento de un sistema de cómputo, tal como es el caso del lenguaje ensamblador. \n",
    "\n",
    "Por su parte, los **lenguajes de alto nivel** son más accesibles para el ser humano e incluso menos dependientes del tipo de hardware, pero deben de ser a su vez traducidos a lenguaje de de bajo nivel."
   ]
  },
  {
   "cell_type": "markdown",
   "metadata": {},
   "source": [
    "### Lenguajes compilados e interpretados.\n",
    "\n",
    "Los lenguajes de alto nivel interactúan con los sistema de cómputo de dos formas.\n",
    "\n",
    "* Mediante un compilador, el cual traduce el código de un programa, dando por resultado un \"archivo binario\" el cual es susceptible de ser ejecutado.\n",
    "* Mediante un intérprete, el cual ejecuta de inmediato las instrucciones que se ingresan.\n",
    "\n",
    "Por lo general los lenguajes compilados son más rápidos y consumen menos recursos que los lenguajes interpretados en vista de que el archivo resultante es código de bajo nivel, mientras que los lenguajes interpretados deben seguir un proceso a través de varios niveles de abstracción hasta que las instrucciones son ejecutadas por el sistema."
   ]
  },
  {
   "cell_type": "markdown",
   "metadata": {},
   "source": [
    "## Entornos  interactivos, guiones y *'Hola Mundo'*.\n",
    "\n",
    "Debido a que Python es un lenguaje interpretado, es posible utilizarlo mediante un entorno interactivo (shell) o mediante el uso de guiones (scripts).\n",
    "\n",
    "\n",
    "### El entorno interactivo.\n",
    "\n",
    "El entorno interactivo se verá de forma similar a la siguiente:\n",
    "\n",
    "``` bash\n",
    "Python 3.4.3+ (default, Oct 14 2015, 16:03:50) \n",
    "[GCC 5.2.1 20151010] on linux\n",
    "Type \"help\", \"copyright\", \"credits\" or \"license\" for more information.\n",
    ">>> \n",
    "```\n",
    "\n",
    "**NOTA:** Para salir del entorno interactivo se debe teclear ```exit()``` y oprimir la tecla <kbd>Intro</kbd>.\n",
    "\n",
    "### Ejecución de guiones (scripts).\n",
    "\n",
    "Los scripts de Python son archivos de texto que contienen código que será leído y ejecutado por el intérprete de Python. Dichos archivos tiene la extensión **.py**. Algunos editores de texto cuentan con reconocimiento de la sintaxis de Python y utilizan colores para identificar sus componentes."
   ]
  },
  {
   "cell_type": "markdown",
   "metadata": {},
   "source": [
    "## Entornos de Desarrollo Integrado.\n",
    "\n",
    "Un Entorno de Desarrollo Integrado (IDE) es un conjunto de herramientas e interfaces que facilitan la programación y que están integrados por algunos de los siguientes elementos:\n",
    "* Editor.\n",
    "* Depurador.\n",
    "* Compilador (no es necesario para Python).\n",
    "* Interfaz de ejecución.\n",
    "* Gestor de componentes.\n",
    "* Control de versiones."
   ]
  },
  {
   "cell_type": "markdown",
   "metadata": {},
   "source": [
    "Existen varios editores e IDE que pueden soportar a Python. Algunos de ellos son: \n",
    "* Eclipse.\n",
    "* XCode.\n",
    "* Visual Studio.\n",
    "* NetBeans.\n",
    "* Vim.\n",
    "* Emacs.\n",
    "* Gedit.\n",
    "* **Atom.**\n",
    "* **Sublime text.**\n",
    "* **PyCharm.**\n",
    "* **Wing IDE.**\n",
    "* Komodo.\n",
    "* **Ninja IDE.**\n",
    "* **Spyder.**"
   ]
  },
  {
   "cell_type": "code",
   "execution_count": 1,
   "metadata": {},
   "outputs": [
    {
     "data": {
      "text/plain": [
       "5"
      ]
     },
     "execution_count": 1,
     "metadata": {},
     "output_type": "execute_result"
    }
   ],
   "source": [
    "3 +2\n"
   ]
  },
  {
   "cell_type": "markdown",
   "metadata": {},
   "source": [
    "<p style=\"text-align: center\"><a rel=\"license\" href=\"http://creativecommons.org/licenses/by/4.0/\"><img alt=\"Licencia Creative Commons\" style=\"border-width:0\" src=\"https://i.creativecommons.org/l/by/4.0/80x15.png\" /></a><br />Esta obra está bajo una <a rel=\"license\" href=\"http://creativecommons.org/licenses/by/4.0/\">Licencia Creative Commons Atribución 4.0 Internacional</a>.</p>\n",
    "<p style=\"text-align: center\">&copy; Biol. Luis Eloy Homobono Fuentes. 2019.</p>"
   ]
  }
 ],
 "metadata": {
  "kernelspec": {
   "display_name": "Python 3",
   "language": "python",
   "name": "python3"
  },
  "language_info": {
   "codemirror_mode": {
    "name": "ipython",
    "version": 3
   },
   "file_extension": ".py",
   "mimetype": "text/x-python",
   "name": "python",
   "nbconvert_exporter": "python",
   "pygments_lexer": "ipython3",
   "version": "3.6.8"
  }
 },
 "nbformat": 4,
 "nbformat_minor": 2
}
