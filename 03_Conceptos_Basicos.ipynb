{
 "cells": [
  {
   "cell_type": "markdown",
   "metadata": {},
   "source": [
    "# Practica para desarrollar tu habilidad de Programación\n",
    "\n",
    "\n",
    "## Calculadora\n",
    "\n",
    "En esta practica vamos a hacer una calculadora, primero necesitamos saber como opera una calculadora.\n",
    "\n",
    "Las calculadoras operan de la siguiente manera:\n",
    "- Reciben dos numeros\n",
    "- Realizan una operación aritmética básica (+,-,x,/)\n",
    "- Arrojan un resultado\n",
    "\n",
    "\n",
    "Lo que necesitas hacer es:\n",
    "\n",
    "\n",
    "**1.** Necesitamos hacer que la calculadora reciba 2 numeros cuales quiera\n",
    "\n",
    "**2.** Comó segundo paso la calculadora debe preguntarnos que operación deseamos ralizar y poder elegir entre ellas.\n",
    "\n",
    "**3.** Comó tercer paso la calculadora debe ejecutar la operación que le hemos indicado."
   ]
  },
  {
   "cell_type": "markdown",
   "metadata": {},
   "source": [
    "# Módulos en Python.\n",
    "\n",
    "Python cuenta con una gran biblioteca de módulos.\n",
    "\n",
    "Los módulos se pueden consultar ejecutando _help(\"modules\")_ en la interfaz interactiva."
   ]
  },
  {
   "cell_type": "code",
   "execution_count": null,
   "metadata": {},
   "outputs": [],
   "source": [
    "help('modules')"
   ]
  },
  {
   "cell_type": "markdown",
   "metadata": {},
   "source": [
    "## Importación de módulos.\n",
    "\n",
    "### La expresión _import_.\n",
    "\n",
    "```\n",
    "import <module>\n",
    "\n",
    "```\n",
    "### Proceso de importación de un módulo.\n",
    "\n",
    "* El intérprete de Python busca en el sistema de archivos local en el orden siguiente:\n",
    "    * El directorio actual desde donde se ejecuta el intéreprete de Python.\n",
    "    * Las rutas predefinidas en la configuración del intérprete de Python.\n",
    "    \n",
    "### Acceso a un componente contenido en un módulo.\n",
    "\n",
    "Cada objeto creado al ejecutarse el módulo será ligado al espacio de nombres de dicho módulo y será accesible mediante el operador de atributo (*.*).\n",
    "```\n",
    "<modulo>.<componente> \n",
    "```"
   ]
  },
  {
   "cell_type": "code",
   "execution_count": null,
   "metadata": {
    "collapsed": true
   },
   "outputs": [],
   "source": [
    "import math"
   ]
  },
  {
   "cell_type": "code",
   "execution_count": null,
   "metadata": {},
   "outputs": [],
   "source": [
    "dir(math)"
   ]
  },
  {
   "cell_type": "code",
   "execution_count": null,
   "metadata": {},
   "outputs": [],
   "source": [
    "help(math)"
   ]
  },
  {
   "cell_type": "markdown",
   "metadata": {},
   "source": [
    "### Importando componentes de un módulo con _from_ ... _import_.\n",
    "\n",
    "Es posible importar exclusivamente un componente del módulo y ligarlo al ámbito global mediantela siguiente sintaxis:\n",
    "```\n",
    "from <modulo> import <componente>\n",
    "```"
   ]
  },
  {
   "cell_type": "code",
   "execution_count": null,
   "metadata": {
    "collapsed": true
   },
   "outputs": [],
   "source": [
    "from math import pi"
   ]
  },
  {
   "cell_type": "code",
   "execution_count": null,
   "metadata": {
    "collapsed": true
   },
   "outputs": [],
   "source": [
    "pi"
   ]
  },
  {
   "cell_type": "markdown",
   "metadata": {},
   "source": [
    "### Renombrando módulos y componentes con *as*.\n",
    "\n",
    "Tambien esposible darle otro nombre a un módulo o a un componente de un módulo para evitar colisiones de nombres utilizando la papalbra reservada *as*."
   ]
  },
  {
   "cell_type": "code",
   "execution_count": null,
   "metadata": {
    "collapsed": true
   },
   "outputs": [],
   "source": [
    "import math as matematicas"
   ]
  },
  {
   "cell_type": "code",
   "execution_count": null,
   "metadata": {
    "collapsed": true
   },
   "outputs": [],
   "source": [
    "matematicas.pi"
   ]
  },
  {
   "cell_type": "code",
   "execution_count": null,
   "metadata": {
    "collapsed": true
   },
   "outputs": [],
   "source": [
    "from math import pi as circunferencia"
   ]
  },
  {
   "cell_type": "code",
   "execution_count": null,
   "metadata": {
    "collapsed": true
   },
   "outputs": [],
   "source": [
    "pi = \"Pi\""
   ]
  },
  {
   "cell_type": "code",
   "execution_count": null,
   "metadata": {
    "collapsed": true
   },
   "outputs": [],
   "source": [
    "circunferencia"
   ]
  },
  {
   "cell_type": "markdown",
   "metadata": {},
   "source": [
    "## Módulo _os_\n",
    "\n",
    "El módulo **os** nos permite acceder a funcionalidades dependientes del Sistema Operativo. Sobre todo, aquellas que nos refieren información sobre el entorno del mismo y nos permiten manipular la estructura de directorios. [Referencia oficial](https://docs.python.org/3/library/os.html).\n",
    "\n",
    "### Métodos _os_\n",
    "\n",
    "#### os.getcwd()\n",
    "Obtiene nuestro directorio de trabajo.\n",
    "\n",
    "#### os.chdir(nueva_ruta)\n",
    "Cambia de directorio de trabajo a una ruta establecida.\n",
    "\n",
    "#### os.mkdir(ruta)\n",
    "Crea un nuevo directorio.\n",
    "\n",
    "#### os.chmod(ruta_archivo, permisos)\n",
    "Cambia los permisos de un archivo.\n",
    "\n",
    "#### os.remove(ruta_archivo)\n",
    "Borra un archivo\n",
    "\n",
    "#### os.rmdir(directorio)\n",
    "Eliminar un directorio\n",
    "\n",
    "#### os.rename(actual, nuevo)\n",
    "Renombrar un archivo"
   ]
  },
  {
   "cell_type": "markdown",
   "metadata": {},
   "source": [
    "## Módulo _sys_\n",
    "\n",
    "El módulo **sys** es el encargado de proveer variables y funcionalidades, directamente relacionadas con el intérprete.\n",
    "\n",
    "### Metodos _sys_\n",
    "\n",
    "#### sys.version\n",
    "Retorna el número de versión de Python con información adicional\n",
    "\n",
    "#### sys.platform\n",
    "Retorna la plataforma sobre la cuál se está ejecutando el intérprete\n",
    "\n",
    "#### sys.maxint\n",
    "Retorna el número positivo entero mayor, soportado por Python\n",
    "\n",
    "#### sys.executable\n",
    "Retorna el path absoluto del binario ejecutable del intérprete de Python\n",
    "\n",
    "#### sys.argv\n",
    "Retorna una lista con todos los argumentos pasados por línea de comandos. Al ejecutar python modulo.py arg1 arg2, retornará una lista: ['modulo.py', 'arg1', 'arg2']\n"
   ]
  },
  {
   "cell_type": "markdown",
   "metadata": {},
   "source": [
    "## Modulo _math_\n",
    "\n",
    "El módulo math permite el acceso a las funciones de la biblioteca C subyacente para la matemática de punto flotante\n",
    "\n",
    "### Funciones Aritméticas\n",
    "\n",
    "#### math.ceil(x)\n",
    "Devolverá el entero más pequeño que sea mayor qué o igual a x\n",
    "\n",
    "#### math.floor(x) \n",
    "Devuelve el entero más grande menor qué o igual a x\n",
    "\n",
    "#### math.fabs(x)\n",
    "Devuelve el valor absoluto de x.\n",
    "\n",
    "#### math.factorial(x)\n",
    "Devuelve el factorial de un numero. "
   ]
  },
  {
   "cell_type": "code",
   "execution_count": null,
   "metadata": {
    "collapsed": true
   },
   "outputs": [],
   "source": [
    "import math"
   ]
  },
  {
   "cell_type": "code",
   "execution_count": null,
   "metadata": {},
   "outputs": [],
   "source": [
    "math.ceil(1.001)    # returns 2"
   ]
  },
  {
   "cell_type": "code",
   "execution_count": null,
   "metadata": {},
   "outputs": [],
   "source": [
    "math.floor(1.001)   # returns 1"
   ]
  },
  {
   "cell_type": "code",
   "execution_count": null,
   "metadata": {},
   "outputs": [],
   "source": [
    "math.fabs(-134) # return 134.0"
   ]
  },
  {
   "cell_type": "code",
   "execution_count": null,
   "metadata": {},
   "outputs": [],
   "source": [
    "math.factorial(10)  # returns 3628800"
   ]
  },
  {
   "cell_type": "markdown",
   "metadata": {},
   "source": [
    "## La biblioteca de paquetes de Python.\n",
    "\n",
    "Como se mencionó con anterioridad, existe una enorme cantidad de aplicaciones escritas en Python y publicadas en  el sitio [https://pypi.org/](https://pypi.org/)."
   ]
  },
  {
   "cell_type": "markdown",
   "metadata": {},
   "source": [
    "## El gestor de paquetes *pip*.\n",
    "\n",
    "Para poder acceder de forma local a la biblioteca de paquetes de Python se creó el gestos de paquetes llamado *pip*.\n",
    "\n",
    "### Instalación de *pip*.\n",
    "\n",
    "La mayoría de las distribuciones de GNU/Linux cuentan con un paquete de instalación de *pip* tanto para Python 2 como para Python 3.\n",
    "\n",
    "El gestor **pip viene preinstalado en Anaconda**.\n",
    "\n",
    "El gestor *pip* puede ser instalado descargando el script *get-pip.py* desde https://bootstrap.pypa.io/get-pip.py y ejecutándolo con permisos de administrador.\n",
    "\n",
    "``` bash\n",
    "python3 get-pip.py\n",
    "```"
   ]
  },
  {
   "cell_type": "markdown",
   "metadata": {},
   "source": [
    "# Gestión de Errores.\n",
    "\n",
    "Una de las características más poderosas del lenguaje es la gestión de errores. Debido a lo dinámico que puede ser Python es muy común que el intérprete se tope con múltiples fuentes de error.\n",
    "\n",
    "## En python existen 2 tipos de errores\n",
    "* Errores de sintaxis. Se deben necesariamente corregir.\n",
    "* Excepciones. Estos pueden surgir aunque exista una sintaxis correcta, suceden durante la ejecución.\n",
    "\n",
    "Para corregir las excepciones se utiliza el _try_ y _exception_.\n",
    "\n",
    "## Sintaxis de Excepciones:\n",
    "\n",
    "```\n",
    "<flujo principal>\n",
    "...\n",
    "...\n",
    "...\n",
    "try:\n",
    "    <bloque con posible error>\n",
    "exception:\n",
    "    <bloque de excepción>\n",
    "else:\n",
    "    <bloque de flujo principal>\n",
    "    ...\n",
    "    ...\n",
    "    ...\n",
    "```\n",
    "\n",
    "## Tipos de Excepciones\n",
    "\n",
    "* **ImportError:** No se ha importado un módulo\n",
    "* **ValueError:** Cuando un argumento recibe un valor inapropiado.\n",
    "* **KeyboardInterrupt:** Cuando se detiene un proceso con Ctr + C.\n",
    "* **NameError:** No existe la variable\n",
    "* **ZeroDivisionError:** División entre 0"
   ]
  },
  {
   "cell_type": "markdown",
   "metadata": {
    "collapsed": true
   },
   "source": [
    "# INTENTEMOS REPARAR LOS ERRORES DE NUESTRA CALCULADORA"
   ]
  },
  {
   "cell_type": "markdown",
   "metadata": {},
   "source": [
    "# Lectura y escritura de archivos\n",
    "\n",
    "## Apertura de un archivo con la función _open()._\n",
    "\n",
    "La función _open()_ tiene por objeto interactuar con el sistema de archivos local para crear, sobreescribir, leer o desplazarse dentro de un archivo ya sea de texto o binario. \n",
    "\n",
    "```\n",
    "<nombre> = open(<ruta del archivo>, <modo>)\n",
    "```\n",
    "\n",
    "### Modos de abrir un archivo.\n",
    "\n",
    "#### Por el tipo de acceso.\n",
    "\n",
    "* _'r'_ es el modo de lectura.\n",
    "* _'w'_ es un modo de escritura. En caso de existir un archivo, éste es sobreescrito.\n",
    "* _'a'_ es un modo de escritura. En caso de existir un archivo, comienza a escribir al final de éste.\n",
    "* _'x'_ es un modo de escritura para crear un nuevo archivo. En caso de que el archivo exista se emitirá un error de tipo _FileExistsError_. \n",
    "* _'+'_ es un modo de escritura/lectura.\n",
    "\n",
    "## Métodos más utilizados para gestión de archivos comunes para archivos binarios y de texto.\n",
    "\n",
    "### _close()_.\n",
    "\n",
    "Es imperativo que una vez que se hayan realizado todas las operaciones de entrada y de salida de archivos, este sea cerrado de manera adecuada. En caso de no hacerlo, es altamente probable que el archivo se encuentre en un estado inestable y corra riesgo de que la información contenida se corrompa o destruya."
   ]
  },
  {
   "cell_type": "code",
   "execution_count": null,
   "metadata": {},
   "outputs": [],
   "source": [
    "archivo = open('DATA/poema.txt', \"r\")"
   ]
  },
  {
   "cell_type": "code",
   "execution_count": null,
   "metadata": {},
   "outputs": [],
   "source": [
    "archivo"
   ]
  },
  {
   "cell_type": "code",
   "execution_count": null,
   "metadata": {
    "collapsed": true
   },
   "outputs": [],
   "source": [
    "archivo.close()"
   ]
  },
  {
   "cell_type": "markdown",
   "metadata": {},
   "source": [
    "## Métodos exclusivos para archivos de texto.\n",
    "\n",
    "### _readline()_.\n",
    "Leerá el texto desde la posición en que se localice hasta encontrar el caracter de escape retorno de línea (_'\\\\n')_. Cuando el punterose encuentre al final del archivo (EOF), regresará un objeto de cadena de caracteres vacío (_''_).\n",
    "\n",
    "### _readlines()_.\n",
    "Leerá el texto desde la posición en que se localice y creará un objeto de tipo _tuple_ que contenga cada línea dentro del archivo.\n",
    "\n",
    "### _writelines()_.\n",
    "Escribirá el texto contenido dentro de un elemento de tipo _list_ o _tuple_.\n",
    "\n",
    "**Ejemplos.**\n",
    "\n",
    "* Se creará un archivo de texto nuevo con el nombre *prueba.txt*.\n",
    "* Al objeto se le asignará el nombre *archivo*.\n",
    "* Se escribirán 3 líneas.\n",
    "* Se desplegará la posición del puntero del archivo.\n",
    "* Se desplegará el tipo de dato que es la variable *archivo*.\n",
    "* Se cerrará el archivo."
   ]
  },
  {
   "cell_type": "code",
   "execution_count": null,
   "metadata": {
    "collapsed": true
   },
   "outputs": [],
   "source": [
    "archivo = open(\"prueba.txt\", \"w+\")\n",
    "archivo.write(\"Hola.\\nBienvenido al curso de Python.\\nEsperamos que sea una agradable experiencia.\")\n",
    "print(archivo.tell())\n",
    "print(type(archivo))\n",
    "archivo.close()"
   ]
  },
  {
   "cell_type": "code",
   "execution_count": null,
   "metadata": {
    "collapsed": true
   },
   "outputs": [],
   "source": [
    "archivo = open(\"prueba.txt\", \"r\")\n",
    "print(archivo.readline())\n",
    "archivo.close()"
   ]
  },
  {
   "cell_type": "markdown",
   "metadata": {},
   "source": [
    "<p style=\"text-align: center\"><a rel=\"license\" href=\"http://creativecommons.org/licenses/by/4.0/\"><img alt=\"Licencia Creative Commons\" style=\"border-width:0\" src=\"https://i.creativecommons.org/l/by/4.0/80x15.png\" /></a><br />Esta obra está bajo una <a rel=\"license\" href=\"http://creativecommons.org/licenses/by/4.0/\">Licencia Creative Commons Atribución 4.0 Internacional</a>.</p>\n",
    "<p style=\"text-align: center\">&copy; Biol. Luis Eloy Homobono Fuentes. 2019.</p>"
   ]
  }
 ],
 "metadata": {
  "kernelspec": {
   "display_name": "Python 3",
   "language": "python",
   "name": "python3"
  },
  "language_info": {
   "codemirror_mode": {
    "name": "ipython",
    "version": 3
   },
   "file_extension": ".py",
   "mimetype": "text/x-python",
   "name": "python",
   "nbconvert_exporter": "python",
   "pygments_lexer": "ipython3",
   "version": "3.6.8"
  }
 },
 "nbformat": 4,
 "nbformat_minor": 2
}
