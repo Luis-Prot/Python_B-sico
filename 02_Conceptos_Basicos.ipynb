{
 "cells": [
  {
   "cell_type": "markdown",
   "metadata": {},
   "source": [
    "# Clase 1. Curso Básico de Python\n",
    "\n",
    "## Palabras reservadas de Python.\n",
    "\n",
    "Las palabras reservadas (**keywords**) corresponden a los nombres de las declaraciones que el intérprete de Python incluye por defecto."
   ]
  },
  {
   "cell_type": "code",
   "execution_count": 1,
   "metadata": {},
   "outputs": [
    {
     "name": "stdout",
     "output_type": "stream",
     "text": [
      "\n",
      "Here is a list of the Python keywords.  Enter any keyword to get more help.\n",
      "\n",
      "False               def                 if                  raise\n",
      "None                del                 import              return\n",
      "True                elif                in                  try\n",
      "and                 else                is                  while\n",
      "as                  except              lambda              with\n",
      "assert              finally             nonlocal            yield\n",
      "break               for                 not                 \n",
      "class               from                or                  \n",
      "continue            global              pass                \n",
      "\n"
     ]
    }
   ],
   "source": [
    "help(\"keywords\")"
   ]
  },
  {
   "cell_type": "markdown",
   "metadata": {},
   "source": [
    "El intérprete utiliza otros elementos por defecto los cuales aún cuando son parte fundamentel del lenguaje y pero no son palabras reservadas, **no se recomienda utilizarlos como nombres**.\n",
    "\n",
    "El módulo ```__buitlins__``` contiene al resto de estos elementos."
   ]
  },
  {
   "cell_type": "code",
   "execution_count": null,
   "metadata": {},
   "outputs": [],
   "source": [
    "dir(__builtins__)"
   ]
  },
  {
   "cell_type": "markdown",
   "metadata": {},
   "source": [
    "### Sintaxis para la elaboración de nombres en Python 3.\n",
    "\n",
    "* Python 3 acepta el uso de [*Unicode*](https://es.wikipedia.org/wiki/Unicode).\n",
    "* Los nombres pueden empezar con un guión bajo ```_``` o un caracter alfabético.\n",
    "* Después del primer caracter, se pueden utilizar caracteres alfabéticos, números y/o guiones bajos.\n",
    "* No se permiten caracteres distintos a los alfabéticos o que pudieran confundirse con operadores como ```|```, ```~```, ```#```, ```-```, etc.\n",
    "* Se pueden utilizar mayúsculas, pero cabe señalar que Python es sensible a mayúsculas."
   ]
  },
  {
   "cell_type": "markdown",
   "metadata": {},
   "source": [
    "## Expresiones.\n",
    "\n",
    "Una expresión es una combinación de valores, operadores, funciones y métodos que da por resultado un valor en una sola línea.\n",
    "\n",
    "**Ejemplos:**"
   ]
  },
  {
   "cell_type": "code",
   "execution_count": null,
   "metadata": {},
   "outputs": [],
   "source": [
    "1 + 1"
   ]
  },
  {
   "cell_type": "markdown",
   "metadata": {},
   "source": [
    "## Declaraciones (Statements).\n",
    "\n",
    "Las declaraciones son unidades de código que el interprete de Python puede ejecutar. En realidad una declaración es un tipo de expresión."
   ]
  },
  {
   "cell_type": "code",
   "execution_count": 2,
   "metadata": {},
   "outputs": [
    {
     "name": "stdout",
     "output_type": "stream",
     "text": [
      "300\n"
     ]
    }
   ],
   "source": [
    "y = 0\n",
    "for x in range(25):\n",
    "    y = y +  x \n",
    "print(y)"
   ]
  },
  {
   "cell_type": "markdown",
   "metadata": {},
   "source": [
    "# Tipos de Datos\n",
    "\n",
    "Python cuenta con una amplia biblioteca que incluye muy diversos tipos de datos, pero hay tipos básicos que no requieren del alguna biblioteca.\n",
    "\n",
    "##  Particularidades los tipos de datos en Python.\n",
    "\n",
    "### Tipos dinámicos.\n",
    "\n",
    "Python es un lenguaje que no requiere que se defina el tipo de un objeto. El intérprete \"infiere\" el tipo de dato del que se trata.\n",
    "\n",
    "### Fuertemente tipado.\n",
    "\n",
    "Existen operaciones que no están permitidas entre tipos que no sean compatibles.\n",
    "\n",
    "## Tipos de datos básicos de Python 3.\n",
    "\n",
    "* **Numéricos:**\n",
    "    * **Enteros** - Números discretos (1, 9, 136, 2019, 1984)\n",
    "    * **Flotantes** - Números continuos (1.5, 3.1415, 2.0007) \n",
    "    * **Complejos** - Números de la forma a - bi\n",
    "* **Cadenas:** Cadenas de Texto (‘Comida’, “ATG”, “Leucine”)\n",
    "* **Booleanos:** Representación de valores lógicos\n",
    "    * **False** - Valor Falso\n",
    "    * **True** - Valor Verdadero\n",
    "* **None:** Sin valor"
   ]
  },
  {
   "cell_type": "markdown",
   "metadata": {},
   "source": [
    "## Números enteros (```int```).\n",
    "\n",
    "Python identifica a los número enteros como un tipo de dato el cual puede ser expresado de la siguiente manera. \n",
    "\n",
    "* Decimal: ```24```, ```60```.\n",
    "* Binario: ```0b010011```, ```0b1101```. \n",
    "* Hexadecimal: ```0x18```, ```0x3cf4```.\n",
    "* Octal: ``0o30``, ```0o74```.\n",
    "\n",
    "**Ejemplos**"
   ]
  },
  {
   "cell_type": "code",
   "execution_count": null,
   "metadata": {},
   "outputs": [],
   "source": [
    "24 # Entero"
   ]
  },
  {
   "cell_type": "code",
   "execution_count": 4,
   "metadata": {},
   "outputs": [
    {
     "data": {
      "text/plain": [
       "139"
      ]
     },
     "execution_count": 4,
     "metadata": {},
     "output_type": "execute_result"
    }
   ],
   "source": [
    "0b10001011 # Binario para 139"
   ]
  },
  {
   "cell_type": "code",
   "execution_count": 3,
   "metadata": {},
   "outputs": [
    {
     "data": {
      "text/plain": [
       "1522"
      ]
     },
     "execution_count": 3,
     "metadata": {},
     "output_type": "execute_result"
    }
   ],
   "source": [
    "0x5f2 # Hexadecimal de 1522"
   ]
  },
  {
   "cell_type": "code",
   "execution_count": 5,
   "metadata": {},
   "outputs": [
    {
     "data": {
      "text/plain": [
       "159"
      ]
     },
     "execution_count": 5,
     "metadata": {},
     "output_type": "execute_result"
    }
   ],
   "source": [
    "0o237 # Octal de 159"
   ]
  },
  {
   "cell_type": "markdown",
   "metadata": {},
   "source": [
    "## Números de punto flotante (``float``).\n",
    "\n",
    "El tipo ``float`` corresponden al conjunto de los números reales.\n",
    " \n",
    "**Ejemplos:**\n",
    " \n",
    "* ```3.141595``` \n",
    "* ```12.``` \n",
    "* ```-45.3556```\n",
    "\n",
    "#### Precisión de los números flotantes.\n",
    "\n",
    "Hay que tomar en cuenta de que la precisión de los números dependen en gran medida de la capacidad del equipo de cómputo, por lo que en ocasiones una operación con números de tipo float no dará el resultado exacto, sino una aproximación.\n",
    "\n",
    "**Ejemplo:**"
   ]
  },
  {
   "cell_type": "code",
   "execution_count": 6,
   "metadata": {},
   "outputs": [
    {
     "data": {
      "text/plain": [
       "0.6666666666666666"
      ]
     },
     "execution_count": 6,
     "metadata": {},
     "output_type": "execute_result"
    }
   ],
   "source": [
    "2.0/3.0"
   ]
  },
  {
   "cell_type": "code",
   "execution_count": 7,
   "metadata": {},
   "outputs": [
    {
     "data": {
      "text/plain": [
       "0.6666666666666666"
      ]
     },
     "execution_count": 7,
     "metadata": {},
     "output_type": "execute_result"
    }
   ],
   "source": [
    "2/3"
   ]
  },
  {
   "cell_type": "code",
   "execution_count": 8,
   "metadata": {},
   "outputs": [
    {
     "data": {
      "text/plain": [
       "0.0"
      ]
     },
     "execution_count": 8,
     "metadata": {},
     "output_type": "execute_result"
    }
   ],
   "source": [
    "2.0//3.0"
   ]
  },
  {
   "cell_type": "markdown",
   "metadata": {},
   "source": [
    "## Números complejos (```complex```).\n",
    " \n",
    "El tipo ```complex``` corresponden al conjunto de los números complejos.\n",
    "\n",
    "La sintaxis estricta es la siguiente:\n",
    "\n",
    "```\n",
    "1.0+13j\n",
    "0.12-13j\n",
    "```\n",
    "**Ejemplos:**"
   ]
  },
  {
   "cell_type": "code",
   "execution_count": 9,
   "metadata": {},
   "outputs": [
    {
     "data": {
      "text/plain": [
       "(2+5j)"
      ]
     },
     "execution_count": 9,
     "metadata": {},
     "output_type": "execute_result"
    }
   ],
   "source": [
    "(2+5j)"
   ]
  },
  {
   "cell_type": "markdown",
   "metadata": {},
   "source": [
    "## Valores booleanos (```bool```).\n",
    "\n",
    "El tipo ```bool``` es una especie de tipo numérico que es utilizado para evaluar expresiones lógicas y tiene dos valores: ```True``` y ```False```.\n",
    "\n",
    "* Si la expresión lógica es cierta, el resultado es ```True```.\n",
    "* Si la expresión lógica NO es cierta, el resultado es ```False```.\n",
    "* *False* equivale numéricamente a ```0```. \n",
    "* Cualquier otro valor no vacío equivale a ```True``` y su valor por defecto es ```1```.\n",
    "\n",
    "**Ejemplos:**"
   ]
  },
  {
   "cell_type": "code",
   "execution_count": null,
   "metadata": {},
   "outputs": [],
   "source": [
    "True"
   ]
  },
  {
   "cell_type": "code",
   "execution_count": null,
   "metadata": {},
   "outputs": [],
   "source": [
    "False"
   ]
  },
  {
   "cell_type": "markdown",
   "metadata": {},
   "source": [
    "## ```NoneType```.\n",
    "\n",
    "El tipo ```None``` representa un valor nulo. \n",
    "\n",
    "Una expresión que de por resultado ```None``` no es desplegado por el intérprete.\n",
    "\n",
    "**Ejemplo:**"
   ]
  },
  {
   "cell_type": "code",
   "execution_count": 10,
   "metadata": {},
   "outputs": [],
   "source": [
    "None"
   ]
  },
  {
   "cell_type": "markdown",
   "metadata": {},
   "source": [
    "# Variables\n",
    "## El operador de asignación ```=```.\n",
    "\n",
    "Para asignar una variable, se utiliza el el operador de asignación ```=``` con la siguiente sintaxis:\n",
    "\n",
    "```\n",
    "<variable> = <valor>\n",
    "```"
   ]
  },
  {
   "cell_type": "code",
   "execution_count": 11,
   "metadata": {},
   "outputs": [],
   "source": [
    "saludo = 'Hola'\n",
    "matriz = [[\"autobús\", \"diesel\", True], [\"automóvil\", \"gasolina\", True]] \n",
    "numero = 23.45"
   ]
  },
  {
   "cell_type": "code",
   "execution_count": 13,
   "metadata": {},
   "outputs": [
    {
     "data": {
      "text/plain": [
       "[['autobús', 'diesel', True], ['automóvil', 'gasolina', True]]"
      ]
     },
     "execution_count": 13,
     "metadata": {},
     "output_type": "execute_result"
    }
   ],
   "source": [
    "numero\n",
    "matriz"
   ]
  },
  {
   "cell_type": "markdown",
   "metadata": {},
   "source": [
    "### Asignación de múltiples variables a igual número de objetos.\n",
    "\n",
    "Es posible asignar a varios nombres un número igual de objetos usando un sólo operador de asignación mediante la siguiente sintaxis:\n",
    "\n",
    "```\n",
    "<variable 1>, <variable 2>, <variable 3>, ..., <variable n> = <valor 1>, <valor 2>, <valor 3>, ...,<valor n>```"
   ]
  },
  {
   "cell_type": "code",
   "execution_count": null,
   "metadata": {
    "collapsed": true
   },
   "outputs": [],
   "source": [
    "entero, flotante, complejo, booleano = 12, 4.5, (12.3 + 23j), True"
   ]
  },
  {
   "cell_type": "markdown",
   "metadata": {},
   "source": [
    "# Operadores\n",
    "\n",
    "Los operadores son signos o palabras reservadas que el intérprete de Python identifica dentro de sus sintaxis para realizar una acción (operación) específica.\n",
    "\n",
    "### Operadores aritméticos.\n",
    "\n",
    "|Operador|Descripción|\n",
    "|:------:|:---------:|\n",
    "|```+``` |Suma       |\n",
    "|```-``` |Resta      |\n",
    "|```-``` |Negativo   |\n",
    "|```*``` |Multiplicación|\n",
    "|```**```|Exponente  |\n",
    "|```/``` |División   |\n",
    "|```//```|División entera|\n",
    "|```%``` |Residuo    |\n",
    "\n",
    "### Reglas de precedencia en operaciones aritméticas.\n",
    "\n",
    "Los operadores se apegan a la siguiente regla de precedencia siguiendo una secuencia de izquierda a derecha:\n",
    "\n",
    "1. Paréntesis.\n",
    "2. Exponente.\n",
    "3. Multiplicación.\n",
    "4. División.\n",
    "5. Suma.\n",
    "6. Sustracción."
   ]
  },
  {
   "cell_type": "code",
   "execution_count": null,
   "metadata": {},
   "outputs": [],
   "source": [
    "3 / 4"
   ]
  },
  {
   "cell_type": "code",
   "execution_count": null,
   "metadata": {},
   "outputs": [],
   "source": [
    "2 ** 3"
   ]
  },
  {
   "cell_type": "code",
   "execution_count": 19,
   "metadata": {},
   "outputs": [
    {
     "data": {
      "text/plain": [
       "20.4"
      ]
     },
     "execution_count": 19,
     "metadata": {},
     "output_type": "execute_result"
    }
   ],
   "source": [
    "12 / 5 + 2 * 3 ** 2"
   ]
  },
  {
   "cell_type": "code",
   "execution_count": 21,
   "metadata": {},
   "outputs": [
    {
     "data": {
      "text/plain": [
       "20.4"
      ]
     },
     "execution_count": 21,
     "metadata": {},
     "output_type": "execute_result"
    }
   ],
   "source": [
    "(12 / 5) + 18"
   ]
  },
  {
   "cell_type": "code",
   "execution_count": null,
   "metadata": {},
   "outputs": [],
   "source": [
    "(12 * 5) + (2 / (3 ** 2))"
   ]
  },
  {
   "cell_type": "markdown",
   "metadata": {},
   "source": [
    "### Operadores de asignación.\n",
    "\n",
    "Los operadores de asignación se utilizan para enlazar un valor con un nombre. \n",
    "\n",
    "|Operador|Descripción|Ejemplo|\n",
    "|:------:|:---------:|:-----:|\n",
    "|*=*    |Asignación simple|*x = y*|\n",
    "|*+=*   |Suma             |*x += y* equivale a *x = x + y*|\n",
    "|*-=*   |Resta \t          |*x -= y* equivale a *x = x - y*|\n",
    "|_\\*=_  |Multiplicación   |_x \\*= y_ equivale a _x = x \\* y_|\n",
    "|_\\*\\*=_|Exponente        |_x \\*\\* = y_ equivale a _x = x \\*\\* y_|\n",
    "|*/=* \t|División \t      |*x /= y* equivale a *x = x / y*|\n",
    "|*//=* \t|División entera  |*x //= y* equivale a *x = x // y*|\n",
    "|*%=* \t|Residuo de división|*x %= y* equivale a *x = x % y*|"
   ]
  },
  {
   "cell_type": "code",
   "execution_count": 22,
   "metadata": {},
   "outputs": [
    {
     "data": {
      "text/plain": [
       "5"
      ]
     },
     "execution_count": 22,
     "metadata": {},
     "output_type": "execute_result"
    }
   ],
   "source": [
    "x = 2\n",
    "x += 3\n",
    "x"
   ]
  },
  {
   "cell_type": "code",
   "execution_count": 23,
   "metadata": {},
   "outputs": [
    {
     "data": {
      "text/plain": [
       "8"
      ]
     },
     "execution_count": 23,
     "metadata": {},
     "output_type": "execute_result"
    }
   ],
   "source": [
    "y = 2\n",
    "y **= 3\n",
    "y"
   ]
  },
  {
   "cell_type": "markdown",
   "metadata": {},
   "source": [
    "### Operadores de relación. \n",
    "\n",
    "Los operadores de relación evalúan si dos valores que cumplen con una condición específica. El resultado de esta evaluación es de tipo *bool*.\n",
    "\n",
    "|Operador|Evalúa          |\n",
    "|:------:|:---------------|\n",
    "|*==*    |*a == b* ¿a igual a b?|\n",
    "|*!=* \t |*a != b* ¿a distinta de b?|\n",
    "|*>*     |*a > b* ¿a mayor que b?|\n",
    "|*<* \t |*a < b* ¿a menor que b?|\n",
    "|*>=*    |*a >= b* ¿a mayor o igual que b?|\n",
    "|*<=*    |*a <= b* ¿a menor o igual que b?|"
   ]
  },
  {
   "cell_type": "code",
   "execution_count": 24,
   "metadata": {},
   "outputs": [
    {
     "data": {
      "text/plain": [
       "False"
      ]
     },
     "execution_count": 24,
     "metadata": {},
     "output_type": "execute_result"
    }
   ],
   "source": [
    "\"hola\" == 'Hola'"
   ]
  },
  {
   "cell_type": "code",
   "execution_count": 25,
   "metadata": {},
   "outputs": [
    {
     "data": {
      "text/plain": [
       "True"
      ]
     },
     "execution_count": 25,
     "metadata": {},
     "output_type": "execute_result"
    }
   ],
   "source": [
    "2 * 9 ** 0.5 == 6"
   ]
  },
  {
   "cell_type": "markdown",
   "metadata": {},
   "source": [
    "### Operadores de especiales de identidad.\n",
    "\n",
    "Los operadores *is* e *is not* evalúan si un identificador se refiere exactamente al mismo objeto o pertenece a un tipo.\n",
    "\n",
    "|Operador \t|Evalúa|\n",
    "|:---------:|:----:|\n",
    "|*is*       |*a is b* Equivale a *id(a) == id(b)*|\n",
    "|*is not*   |*a is not b* Equivale a *id(a) != id(b)*|"
   ]
  },
  {
   "cell_type": "code",
   "execution_count": null,
   "metadata": {
    "collapsed": true
   },
   "outputs": [],
   "source": [
    "a = 45\n",
    "b = 45"
   ]
  },
  {
   "cell_type": "code",
   "execution_count": null,
   "metadata": {},
   "outputs": [],
   "source": [
    "a is b\n",
    "a is not b"
   ]
  },
  {
   "cell_type": "code",
   "execution_count": 26,
   "metadata": {},
   "outputs": [],
   "source": [
    "a = 'Luis'\n",
    "b = 'luis'"
   ]
  },
  {
   "cell_type": "code",
   "execution_count": 27,
   "metadata": {},
   "outputs": [
    {
     "data": {
      "text/plain": [
       "False"
      ]
     },
     "execution_count": 27,
     "metadata": {},
     "output_type": "execute_result"
    }
   ],
   "source": [
    "a is b"
   ]
  },
  {
   "cell_type": "code",
   "execution_count": 28,
   "metadata": {},
   "outputs": [
    {
     "data": {
      "text/plain": [
       "False"
      ]
     },
     "execution_count": 28,
     "metadata": {},
     "output_type": "execute_result"
    }
   ],
   "source": [
    "2 > 5 is 5 < 3"
   ]
  },
  {
   "cell_type": "markdown",
   "metadata": {},
   "source": [
    "### Operadores de pertenencia.\n",
    "\n",
    "Los operadores *in* y *not in* evalúan si un objeto se encuentra dentro de otro."
   ]
  },
  {
   "cell_type": "code",
   "execution_count": 29,
   "metadata": {},
   "outputs": [
    {
     "data": {
      "text/plain": [
       "True"
      ]
     },
     "execution_count": 29,
     "metadata": {},
     "output_type": "execute_result"
    }
   ],
   "source": [
    "'a' in 'Hola'"
   ]
  },
  {
   "cell_type": "code",
   "execution_count": 30,
   "metadata": {},
   "outputs": [
    {
     "data": {
      "text/plain": [
       "False"
      ]
     },
     "execution_count": 30,
     "metadata": {},
     "output_type": "execute_result"
    }
   ],
   "source": [
    "'la' not in 'Hola'"
   ]
  },
  {
   "cell_type": "markdown",
   "metadata": {},
   "source": [
    "### Álgebra booleana y tablas de la verdad.\n",
    "\n",
    "Las siguientes tablas muestran los reaultados de los operadores lógicos *or* y *and* dependiendo de los valores booleanos que se utilicen.\n",
    "\n",
    "\n",
    "|OR| True|False|\n",
    "|:--:|:--:|:--:|\n",
    "|**True**|True|True|\n",
    "|**False**|True|False|\n",
    "\n",
    "|XOR| True|False|\n",
    "|:--:|:--:|:--:|\n",
    "|**True**|False|False|\n",
    "|**False**|False|True|\n",
    "\n",
    "|AND| True|False|\n",
    "|:--:|:--:|:--:|\n",
    "|**True**|True|False|\n",
    "|**False**|False|False|\n",
    "\n",
    "### Operadores lógicos.\n",
    "\n",
    "Estos operadores permiten la realización de las siguientes operaciones lógicas. Por lo general se realizan con objetos de tipo *bool*, pero Python también permite operaciones lógicas con otros tipos de datos. \n",
    "\n",
    "|Operador|Evalúa|\n",
    "|:------:|:----:|\n",
    "|*or*    |*a or b* ¿Se cumplen a o b?|\n",
    "|*and* \t |*a and b* ¿Se comple a y b?|\n",
    "|*not*   |*not x* Contrario a x|"
   ]
  },
  {
   "cell_type": "code",
   "execution_count": 31,
   "metadata": {},
   "outputs": [
    {
     "data": {
      "text/plain": [
       "False"
      ]
     },
     "execution_count": 31,
     "metadata": {},
     "output_type": "execute_result"
    }
   ],
   "source": [
    "15 == 3 or False"
   ]
  },
  {
   "cell_type": "code",
   "execution_count": 32,
   "metadata": {},
   "outputs": [
    {
     "data": {
      "text/plain": [
       "True"
      ]
     },
     "execution_count": 32,
     "metadata": {},
     "output_type": "execute_result"
    }
   ],
   "source": [
    "15 > 3 and 15 <= 20"
   ]
  },
  {
   "cell_type": "markdown",
   "metadata": {},
   "source": [
    "# Bloques y Comentarios.\n",
    "\n",
    "## Indentación de bloques de código.\n",
    "\n",
    "En Python la indentación forma parte de la sintaxis. \n",
    "\n",
    "La indentación **se utiliza para delimitar bloques de código dentro de un condicional, ciclo, función, etc.**, sin necesidad de utilizar caracteres delimitadores como ocurre en otros lenguajes de programación.\n",
    "\n",
    "Por convención se utilizan **cuatro espacios** para indentar en vez de tabuladores.\n",
    "\n",
    "## Comentarios.\n",
    "\n",
    "Los comentarios son porciones de texto que aún cuando se encuentran dentro de un bloque de código, no son interpretados por Python y **sirven primordialmente para documentar al código**.\n",
    "\n",
    "### Comentarios de una sola línea *#*.\n",
    "\n",
    "Cualquier texto después del carácter \"*#*\" y hasta el final de la línea es considerado como un comentario.\n",
    "\n",
    "Algunas especificaciones de ejecución de Python también se colocan como si fueran comentarios de este tipo.\n",
    "\n",
    "``` python\n",
    "#! /usr/bin/python\n",
    "# -*- coding: utf-8 -*-\n",
    "``` \n",
    "\n",
    "### Docstrings.\n",
    "\n",
    "Python también permite incluir comentarios de varias líneas. Éstos deben de estar encerrados entre triples comillas (*\"\"\"*) o apóstrofes (*' ' '*). Este tipo de comentarios son conocidos como \"docstrings\" y son utilizados para generar documentación que se desplegaría mediante la función _help()_.\n",
    "\n",
    "``` python\n",
    "\"\"\"Este es un mensaje de varias líneas.\n",
    "   Tiene el potencial de generar documentación útil  mediante la funcionalidad de introspección de Python.\"\"\"\n",
    "```"
   ]
  },
  {
   "cell_type": "markdown",
   "metadata": {},
   "source": [
    "# Funciones\n",
    "\n",
    "Las funciones son piezas de código delimitadas y a las que se les puede asignar un nombre con el que pueden ser invocadas.\n",
    "\n",
    "## Definición de una función.\n",
    "\n",
    "De forma general, las funciones en Python se definen de la siguiente manera:\n",
    "\n",
    "```\n",
    "def <nombre>(<parámetros>):\n",
    "    <código>\n",
    "```\n",
    "\n",
    "Las funciones se invocan de la siguiente manera:\n",
    "\n",
    "```\n",
    "<nombre>(<argumentos>)\n",
    "```"
   ]
  },
  {
   "cell_type": "code",
   "execution_count": null,
   "metadata": {
    "collapsed": true
   },
   "outputs": [],
   "source": [
    "def saludo():\n",
    "    '''Saludo de bienvenida'''\n",
    "    print('Hola, eres bienvenido')"
   ]
  },
  {
   "cell_type": "code",
   "execution_count": null,
   "metadata": {},
   "outputs": [],
   "source": [
    "saludo()"
   ]
  },
  {
   "cell_type": "code",
   "execution_count": null,
   "metadata": {},
   "outputs": [],
   "source": [
    "help(saludo)"
   ]
  },
  {
   "cell_type": "markdown",
   "metadata": {},
   "source": [
    "## Parámetros y argumentos.\n",
    "\n",
    "Es posible ingresar datos al ser invocadas a estos datos se les denomina argumentos y son ligados a nombres, los cuales se conocen como parámetros. \n",
    "\n",
    "El número de argumentos ingresados debe corresponder al número de parámetros que se definen."
   ]
  },
  {
   "cell_type": "code",
   "execution_count": 33,
   "metadata": {},
   "outputs": [],
   "source": [
    "def suma(primero, segundo):\n",
    "    '''Despliega la suma de dos objetos'''\n",
    "    print(int(primero) + int(segundo))"
   ]
  },
  {
   "cell_type": "code",
   "execution_count": 34,
   "metadata": {},
   "outputs": [
    {
     "name": "stdout",
     "output_type": "stream",
     "text": [
      "17\n"
     ]
    }
   ],
   "source": [
    "suma(12, 5)"
   ]
  },
  {
   "cell_type": "code",
   "execution_count": 35,
   "metadata": {},
   "outputs": [
    {
     "ename": "ValueError",
     "evalue": "invalid literal for int() with base 10: 'Hola, '",
     "output_type": "error",
     "traceback": [
      "\u001b[0;31m---------------------------------------------------------------------------\u001b[0m",
      "\u001b[0;31mValueError\u001b[0m                                Traceback (most recent call last)",
      "\u001b[0;32m<ipython-input-35-8dbb81fbef4b>\u001b[0m in \u001b[0;36m<module>\u001b[0;34m\u001b[0m\n\u001b[0;32m----> 1\u001b[0;31m \u001b[0msuma\u001b[0m\u001b[0;34m(\u001b[0m\u001b[0;34m'Hola, '\u001b[0m\u001b[0;34m,\u001b[0m \u001b[0;34m'Mundo.'\u001b[0m\u001b[0;34m)\u001b[0m\u001b[0;34m\u001b[0m\u001b[0;34m\u001b[0m\u001b[0m\n\u001b[0m",
      "\u001b[0;32m<ipython-input-33-ad24be4c9153>\u001b[0m in \u001b[0;36msuma\u001b[0;34m(primero, segundo)\u001b[0m\n\u001b[1;32m      1\u001b[0m \u001b[0;32mdef\u001b[0m \u001b[0msuma\u001b[0m\u001b[0;34m(\u001b[0m\u001b[0mprimero\u001b[0m\u001b[0;34m,\u001b[0m \u001b[0msegundo\u001b[0m\u001b[0;34m)\u001b[0m\u001b[0;34m:\u001b[0m\u001b[0;34m\u001b[0m\u001b[0;34m\u001b[0m\u001b[0m\n\u001b[1;32m      2\u001b[0m     \u001b[0;34m'''Despliega la suma de dos objetos'''\u001b[0m\u001b[0;34m\u001b[0m\u001b[0;34m\u001b[0m\u001b[0m\n\u001b[0;32m----> 3\u001b[0;31m     \u001b[0mprint\u001b[0m\u001b[0;34m(\u001b[0m\u001b[0mint\u001b[0m\u001b[0;34m(\u001b[0m\u001b[0mprimero\u001b[0m\u001b[0;34m)\u001b[0m \u001b[0;34m+\u001b[0m \u001b[0mint\u001b[0m\u001b[0;34m(\u001b[0m\u001b[0msegundo\u001b[0m\u001b[0;34m)\u001b[0m\u001b[0;34m)\u001b[0m\u001b[0;34m\u001b[0m\u001b[0;34m\u001b[0m\u001b[0m\n\u001b[0m",
      "\u001b[0;31mValueError\u001b[0m: invalid literal for int() with base 10: 'Hola, '"
     ]
    }
   ],
   "source": [
    "suma('Hola, ', 'Mundo.')"
   ]
  },
  {
   "cell_type": "code",
   "execution_count": 36,
   "metadata": {},
   "outputs": [
    {
     "name": "stdout",
     "output_type": "stream",
     "text": [
      "15\n"
     ]
    }
   ],
   "source": [
    "suma(12,'3')"
   ]
  },
  {
   "cell_type": "markdown",
   "metadata": {},
   "source": [
    "### Parámetros con argumentos por defecto.\n",
    "\n",
    "Es posible asignar valores por defecto a cada parámetro definido en una función mediante el operado de asignación ( *=* ).\n",
    "\n",
    "Si a todos los parámetros se les asigna un valor, entonces no es necesario ingresar argumentos al invocar la función, ya que dichos valores serán utilizados. Los argumentos que se ingresen se irán sustituyendo de izquierda a derecha."
   ]
  },
  {
   "cell_type": "code",
   "execution_count": null,
   "metadata": {
    "collapsed": true
   },
   "outputs": [],
   "source": [
    "def suma(primero=1, segundo=3):\n",
    "    '''Despliega la suma de dos objetos'''\n",
    "    print(primero + segundo)"
   ]
  },
  {
   "cell_type": "code",
   "execution_count": null,
   "metadata": {},
   "outputs": [],
   "source": [
    "suma()"
   ]
  },
  {
   "cell_type": "code",
   "execution_count": null,
   "metadata": {},
   "outputs": [],
   "source": [
    "suma(2)"
   ]
  },
  {
   "cell_type": "code",
   "execution_count": null,
   "metadata": {},
   "outputs": [],
   "source": [
    "suma(2, 5)"
   ]
  },
  {
   "cell_type": "markdown",
   "metadata": {},
   "source": [
    "### Captura de varios argumentos (*args).\n",
    "\n",
    "Es posible definir un parámetro que acepte un número indeterminado de argumentos y que éstos queden guardados dentro de un tipo _tuple_. Para esto, basta preceder al nombre del parámetro con un solo asterisco (*)."
   ]
  },
  {
   "cell_type": "code",
   "execution_count": 37,
   "metadata": {},
   "outputs": [],
   "source": [
    "def media(*muestras):\n",
    "    '''Calcula el promedio de la muestra correspondiente a todos los parámetros ingresados.'''\n",
    "    promedio = sum(muestras)/len(muestras)\n",
    "    print('El promedio de la muestra de %d elementos es %.3f.' %(len(muestras), promedio))"
   ]
  },
  {
   "cell_type": "code",
   "execution_count": 38,
   "metadata": {},
   "outputs": [
    {
     "name": "stdout",
     "output_type": "stream",
     "text": [
      "El promedio de la muestra de 8 elementos es 21.\n"
     ]
    }
   ],
   "source": [
    "media(1, 3, 5, 8, 11, 24, 90, 29)"
   ]
  },
  {
   "cell_type": "code",
   "execution_count": null,
   "metadata": {
    "collapsed": true
   },
   "outputs": [],
   "source": [
    "    def media(titulo, *muestras):\n",
    "        '''Calcula el promedio de la muestra correspondiente a todos los parámetros ingresados con excepción\n",
    "           del primero, el cual será utilizado como título.'''\n",
    "        promedio = sum(muestras)/len(muestras)\n",
    "        print(titulo)\n",
    "        print('El promedio de la muestra de %d elementos es %.3f.' %(len(muestras), promedio))"
   ]
  },
  {
   "cell_type": "code",
   "execution_count": null,
   "metadata": {},
   "outputs": [],
   "source": [
    "media('Conteo de abejas en campo.', 34, 45, 61, 23, 47, 41, 52)"
   ]
  },
  {
   "cell_type": "markdown",
   "metadata": {},
   "source": [
    "### La expresión _return_.\n",
    "\n",
    "La expresión _return_ se utiliza para regresar un valor específico a una variable. Pueden incluirse varias expresiones _return_ en una función, pero sólo se ejecutará la primera que se encuentre. La sintaxis es la siguiente:\n",
    "\n",
    "```\n",
    "return <valor>\n",
    "```"
   ]
  },
  {
   "cell_type": "code",
   "execution_count": 44,
   "metadata": {},
   "outputs": [],
   "source": [
    "def promedio(*muestras):\n",
    "    return (len(muestras), sum(muestras) / len(muestras))"
   ]
  },
  {
   "cell_type": "code",
   "execution_count": 45,
   "metadata": {},
   "outputs": [],
   "source": [
    "promedio(1, 3, 5, 8, 11, 24, 90, 29)\n",
    "muestra, promedio = promedio(1, 3, 5, 8, 11, 24, 90, 29)"
   ]
  },
  {
   "cell_type": "code",
   "execution_count": 46,
   "metadata": {},
   "outputs": [
    {
     "data": {
      "text/plain": [
       "21.375"
      ]
     },
     "execution_count": 46,
     "metadata": {},
     "output_type": "execute_result"
    }
   ],
   "source": [
    "promedio"
   ]
  },
  {
   "cell_type": "code",
   "execution_count": 47,
   "metadata": {},
   "outputs": [
    {
     "ename": "TypeError",
     "evalue": "'float' object is not callable",
     "output_type": "error",
     "traceback": [
      "\u001b[0;31m---------------------------------------------------------------------------\u001b[0m",
      "\u001b[0;31mTypeError\u001b[0m                                 Traceback (most recent call last)",
      "\u001b[0;32m<ipython-input-47-b1363a33da8b>\u001b[0m in \u001b[0;36m<module>\u001b[0;34m\u001b[0m\n\u001b[0;32m----> 1\u001b[0;31m \u001b[0mmedia\u001b[0m \u001b[0;34m=\u001b[0m \u001b[0mpromedio\u001b[0m\u001b[0;34m(\u001b[0m\u001b[0;36m1\u001b[0m\u001b[0;34m,\u001b[0m \u001b[0;36m3\u001b[0m\u001b[0;34m,\u001b[0m \u001b[0;36m5\u001b[0m\u001b[0;34m,\u001b[0m \u001b[0;36m8\u001b[0m\u001b[0;34m,\u001b[0m \u001b[0;36m11\u001b[0m\u001b[0;34m,\u001b[0m \u001b[0;36m24\u001b[0m\u001b[0;34m,\u001b[0m \u001b[0;36m90\u001b[0m\u001b[0;34m,\u001b[0m \u001b[0;36m29\u001b[0m\u001b[0;34m)\u001b[0m\u001b[0;34m\u001b[0m\u001b[0;34m\u001b[0m\u001b[0m\n\u001b[0m\u001b[1;32m      2\u001b[0m \u001b[0mmedia\u001b[0m\u001b[0;34m\u001b[0m\u001b[0;34m\u001b[0m\u001b[0m\n",
      "\u001b[0;31mTypeError\u001b[0m: 'float' object is not callable"
     ]
    }
   ],
   "source": [
    "media = promedio(1, 3, 5, 8, 11, 24, 90, 29)\n",
    "media"
   ]
  },
  {
   "cell_type": "code",
   "execution_count": 42,
   "metadata": {},
   "outputs": [
    {
     "ename": "TypeError",
     "evalue": "%d format: a number is required, not function",
     "output_type": "error",
     "traceback": [
      "\u001b[0;31m---------------------------------------------------------------------------\u001b[0m",
      "\u001b[0;31mTypeError\u001b[0m                                 Traceback (most recent call last)",
      "\u001b[0;32m<ipython-input-42-39fe35c7b183>\u001b[0m in \u001b[0;36m<module>\u001b[0;34m\u001b[0m\n\u001b[0;32m----> 1\u001b[0;31m \u001b[0mprint\u001b[0m\u001b[0;34m(\u001b[0m\u001b[0;34m'El promedio de la muestra de %d elementos es %.3f.'\u001b[0m \u001b[0;34m%\u001b[0m\u001b[0;34m(\u001b[0m\u001b[0mmedia\u001b[0m\u001b[0;34m)\u001b[0m\u001b[0;34m)\u001b[0m\u001b[0;34m\u001b[0m\u001b[0;34m\u001b[0m\u001b[0m\n\u001b[0m",
      "\u001b[0;31mTypeError\u001b[0m: %d format: a number is required, not function"
     ]
    }
   ],
   "source": [
    "print('El promedio de la muestra de %d elementos es %.3f.' %(media))"
   ]
  },
  {
   "cell_type": "markdown",
   "metadata": {},
   "source": [
    "# Colecciones.\n",
    "\n",
    "Las colecciones permiten crear estructuras de datos.\n",
    "\n",
    "Python 3 cuenta con los siguientes tipos de colecciones.\n",
    "\n",
    "* ```str```.\n",
    "* ```list```.\n",
    "* ```tuple```.\n",
    "* ```dict```."
   ]
  },
  {
   "cell_type": "markdown",
   "metadata": {},
   "source": [
    "## El tipo ``` str```.\n",
    "\n",
    "Las cadenas de caracteres son colecciones ordenadas, indexables numéricamente e inmutables de caracteres. \n",
    "\n",
    "El tipo más común de cadenas de caracteres es ```str```, el cual se define encerrando el texto entre comillas   ```\"``` o apóstrofes ```'```. \n",
    " \n",
    "Cualquiera de las siguientes sintaxis es válida:\n",
    "\n",
    "```\n",
    "\"<texto>\"\n",
    "'<texto>'\n",
    "```\n",
    "**Ejemplos:**"
   ]
  },
  {
   "cell_type": "code",
   "execution_count": 48,
   "metadata": {},
   "outputs": [
    {
     "data": {
      "text/plain": [
       "'Hola Mundo'"
      ]
     },
     "execution_count": 48,
     "metadata": {},
     "output_type": "execute_result"
    }
   ],
   "source": [
    "'Hola Mundo'"
   ]
  },
  {
   "cell_type": "code",
   "execution_count": 49,
   "metadata": {},
   "outputs": [
    {
     "data": {
      "text/plain": [
       "\"Vamos a Burger's King\""
      ]
     },
     "execution_count": 49,
     "metadata": {},
     "output_type": "execute_result"
    }
   ],
   "source": [
    "\"Vamos a Burger's King\""
   ]
  },
  {
   "cell_type": "code",
   "execution_count": 50,
   "metadata": {},
   "outputs": [
    {
     "data": {
      "text/plain": [
       "'Kurt Friedrich Gödel'"
      ]
     },
     "execution_count": 50,
     "metadata": {},
     "output_type": "execute_result"
    }
   ],
   "source": [
    "'Kurt Friedrich Gödel'"
   ]
  },
  {
   "cell_type": "code",
   "execution_count": 51,
   "metadata": {},
   "outputs": [
    {
     "data": {
      "text/plain": [
       "''"
      ]
     },
     "execution_count": 51,
     "metadata": {},
     "output_type": "execute_result"
    }
   ],
   "source": [
    "''"
   ]
  },
  {
   "cell_type": "markdown",
   "metadata": {},
   "source": [
    "### Operadores para objetos de tipo *str*.\n",
    "\n",
    "|Operador|Descripción|\n",
    "|:------:|:---------:|\n",
    "|*+*     |Concatenación|\n",
    "|_*_   |Repetición|"
   ]
  },
  {
   "cell_type": "code",
   "execution_count": 52,
   "metadata": {},
   "outputs": [
    {
     "data": {
      "text/plain": [
       "'hola mundo'"
      ]
     },
     "execution_count": 52,
     "metadata": {},
     "output_type": "execute_result"
    }
   ],
   "source": [
    "\"hola \" + \"mundo\""
   ]
  },
  {
   "cell_type": "code",
   "execution_count": 53,
   "metadata": {},
   "outputs": [
    {
     "data": {
      "text/plain": [
       "'hola hola hola '"
      ]
     },
     "execution_count": 53,
     "metadata": {},
     "output_type": "execute_result"
    }
   ],
   "source": [
    "'hola ' * 3"
   ]
  },
  {
   "cell_type": "markdown",
   "metadata": {},
   "source": [
    "### Métodos de ```str```\n",
    "\n",
    "#### _lower()_ \n",
    "Convierte la cadena de caracteres en minúsculas.\n",
    "\n",
    "#### _upper()_ \n",
    "Convierte la cadena de caracteres en mayúsculas.\n",
    "\n",
    "#### _capitalize()_ \n",
    "Convierte al primer caracter del texto en mayúscula y el resto en minúsculas.\n",
    "\n",
    "####  _title()_ \n",
    "Convierte al primer caracter de cada palabra en mayúsculas y los otros en minúsculas. \n",
    "\n",
    "####  _swapcase()_\n",
    "Transforma los caracteres que están en minúsculas a mayúsculas y los que están en mayúsculas a minúsculas.\n",
    "\n",
    "####  _center()_\n",
    "\n",
    "Centra el texto en una cadena del tamaño que se ingresa como argumento. Si se añade un caracter como segundo argumento, se sustituyen los espacios en blanco por dicho caracter.\n",
    "\n",
    "#### _join()_\n",
    "Permite concatenar una secuencia de carateres agrupados en una estructura iterable, utilizando una string como separador.\n",
    "\n",
    "#### _split()_\n",
    "Este método busca de izquierda a derecha el patrón que se ingresa como parámetro, identifica a todas las coincidencias y regresa una lista con cada fragmento de texto delimitado por el patrón.\n",
    "\n",
    "#### _find()_\n",
    "Método que busca de izquierda a derecha un patrón que es ingresado como argumento y regresa el índice del primero que encuentra.\n",
    "\n",
    "#### _replace()_\n",
    "Método al que se le ingresan un patrón y un texto de sustitución.\n",
    "\n",
    "#### _count()_\n",
    "Cuenta el número de veces que aparece un patrón ingresado como argumento dentro del texto."
   ]
  },
  {
   "cell_type": "code",
   "execution_count": 54,
   "metadata": {},
   "outputs": [
    {
     "data": {
      "text/plain": [
       "'hola, amigos.'"
      ]
     },
     "execution_count": 54,
     "metadata": {},
     "output_type": "execute_result"
    }
   ],
   "source": [
    "'Hola, amigos.'.lower()"
   ]
  },
  {
   "cell_type": "code",
   "execution_count": 55,
   "metadata": {},
   "outputs": [
    {
     "data": {
      "text/plain": [
       "'HOLA, AMIGOS.'"
      ]
     },
     "execution_count": 55,
     "metadata": {},
     "output_type": "execute_result"
    }
   ],
   "source": [
    "'Hola, amigos.'.upper()"
   ]
  },
  {
   "cell_type": "code",
   "execution_count": 56,
   "metadata": {},
   "outputs": [
    {
     "data": {
      "text/plain": [
       "'Hola, amigos.'"
      ]
     },
     "execution_count": 56,
     "metadata": {},
     "output_type": "execute_result"
    }
   ],
   "source": [
    "'hola, amigos.'.capitalize()"
   ]
  },
  {
   "cell_type": "code",
   "execution_count": 57,
   "metadata": {},
   "outputs": [
    {
     "data": {
      "text/plain": [
       "'Hola, Amigos.'"
      ]
     },
     "execution_count": 57,
     "metadata": {},
     "output_type": "execute_result"
    }
   ],
   "source": [
    "'hola, amigos.'.title()"
   ]
  },
  {
   "cell_type": "code",
   "execution_count": 58,
   "metadata": {},
   "outputs": [
    {
     "data": {
      "text/plain": [
       "'hOLa, AmIgOS.'"
      ]
     },
     "execution_count": 58,
     "metadata": {},
     "output_type": "execute_result"
    }
   ],
   "source": [
    "'HolA, aMiGos.'.swapcase()"
   ]
  },
  {
   "cell_type": "code",
   "execution_count": 59,
   "metadata": {},
   "outputs": [
    {
     "data": {
      "text/plain": [
       "'        Hola, amigos.         '"
      ]
     },
     "execution_count": 59,
     "metadata": {},
     "output_type": "execute_result"
    }
   ],
   "source": [
    "'Hola, amigos.'.center(30)"
   ]
  },
  {
   "cell_type": "code",
   "execution_count": 60,
   "metadata": {},
   "outputs": [
    {
     "data": {
      "text/plain": [
       "'Hola, amigos.'"
      ]
     },
     "execution_count": 60,
     "metadata": {},
     "output_type": "execute_result"
    }
   ],
   "source": [
    "'        Hola, amigos.         '.strip()"
   ]
  },
  {
   "cell_type": "code",
   "execution_count": 61,
   "metadata": {},
   "outputs": [
    {
     "data": {
      "text/plain": [
       "'xxxxxxxxHola, amigos.xxxxxxxxx'"
      ]
     },
     "execution_count": 61,
     "metadata": {},
     "output_type": "execute_result"
    }
   ],
   "source": [
    "'Hola, amigos.'.center(30, 'x')"
   ]
  },
  {
   "cell_type": "code",
   "execution_count": 62,
   "metadata": {},
   "outputs": [
    {
     "data": {
      "text/plain": [
       "'Hola, amigos.'"
      ]
     },
     "execution_count": 62,
     "metadata": {},
     "output_type": "execute_result"
    }
   ],
   "source": [
    "'xxxxxxxxHola, amigos.xxxxxxxxx'.strip('x')"
   ]
  },
  {
   "cell_type": "code",
   "execution_count": 63,
   "metadata": {},
   "outputs": [
    {
     "data": {
      "text/plain": [
       "'Hugo, Paco, Luis'"
      ]
     },
     "execution_count": 63,
     "metadata": {},
     "output_type": "execute_result"
    }
   ],
   "source": [
    "\", \".join([\"Hugo\", \"Paco\", \"Luis\"])"
   ]
  },
  {
   "cell_type": "code",
   "execution_count": 64,
   "metadata": {},
   "outputs": [
    {
     "data": {
      "text/plain": [
       "'1 + 2 + 3 + 4'"
      ]
     },
     "execution_count": 64,
     "metadata": {},
     "output_type": "execute_result"
    }
   ],
   "source": [
    "\" + \".join((\"1\", \"2\", \"3\", \"4\"))"
   ]
  },
  {
   "cell_type": "code",
   "execution_count": 65,
   "metadata": {},
   "outputs": [
    {
     "data": {
      "text/plain": [
       "['Hugo', 'Paco', 'Luis']"
      ]
     },
     "execution_count": 65,
     "metadata": {},
     "output_type": "execute_result"
    }
   ],
   "source": [
    "\"Hugo, Paco, Luis\".split(\", \")"
   ]
  },
  {
   "cell_type": "code",
   "execution_count": 66,
   "metadata": {},
   "outputs": [
    {
     "data": {
      "text/plain": [
       "12"
      ]
     },
     "execution_count": 66,
     "metadata": {},
     "output_type": "execute_result"
    }
   ],
   "source": [
    "'Luis, Hugo, Paco, Luis'.find('Paco')"
   ]
  },
  {
   "cell_type": "code",
   "execution_count": 67,
   "metadata": {},
   "outputs": [
    {
     "data": {
      "text/plain": [
       "'Juan Antonio, Hugo, Paco, Juan Antonio'"
      ]
     },
     "execution_count": 67,
     "metadata": {},
     "output_type": "execute_result"
    }
   ],
   "source": [
    "'Luis, Hugo, Paco, Luis'.replace('Luis', 'Juan Antonio')"
   ]
  },
  {
   "cell_type": "code",
   "execution_count": 68,
   "metadata": {},
   "outputs": [
    {
     "data": {
      "text/plain": [
       "'AUCUACUUAGUAGCUA'"
      ]
     },
     "execution_count": 68,
     "metadata": {},
     "output_type": "execute_result"
    }
   ],
   "source": [
    "'ATCTACTTAGTAGCTA'.replace('T','U')"
   ]
  },
  {
   "cell_type": "code",
   "execution_count": 70,
   "metadata": {},
   "outputs": [
    {
     "data": {
      "text/plain": [
       "2"
      ]
     },
     "execution_count": 70,
     "metadata": {},
     "output_type": "execute_result"
    }
   ],
   "source": [
    "\"Hola, amigos.\". count(\"a\")"
   ]
  },
  {
   "cell_type": "markdown",
   "metadata": {},
   "source": [
    "## Funciones para convertir entre datos\n",
    "\n",
    "### La función ```int()```.\n",
    " \n",
    "Esta función transforma un tipo compatible que es ingresado como argumento a un objeto tipo ```int```.\n",
    "\n",
    "* Es posible convertir tipo ```str``` que representen correctamente a un número entero.\n",
    "* El tipo ```float``` es truncado en la parte entera. \n",
    "* ```True``` es convertido en ```1```.\n",
    "* ```False``` es convertido en ```0```. \n",
    "\n",
    "### La función ```float()```. \n",
    " \n",
    "Transforma a un objeto de tipo compatible que se ingrese como argumento a uno de tipo ```float```.\n",
    "\n",
    "* Puede convertir tipo ```str``` que contengan una representación correcta a un número real.\n",
    "* Es compatible con los tipo ```int```.\n",
    "* ```True``` es convertido en ```1.0```\n",
    "* ```False``` es convertido en ```0.0```. \n",
    "* No es compatible con tipo ```complex```.\n",
    "\n",
    "\n",
    "### La función ```complex()```.\n",
    "\n",
    "Transforma a un tipo compatible a uno de tipo ```complex```.\n",
    "\n",
    "* Convierte tipo ```str``` que representen correctamente a un número real.\n",
    "* Transforma en un tipo ```complex``` a un par de números ya sean ```int``` o ```float```. \n",
    "* Si sólo se da un número ```int``` o ```float```, este será identificado como el componente real y el componente complejo será ```0j```.\n",
    "\n",
    "### La función ```bool()```.\n",
    "\n",
    "Transforma en booleano a un objeto. \n",
    "\n",
    "* El ```0``` equivale a ```False```.\n",
    "* El valor```None``` equivale a ```False```.\n",
    "* Una colección vacía equivale a ```False``\n",
    "* Cualquier otra cosa distinta es ```True```.\n",
    "\n",
    "### La función ```str()```.\n",
    "\n",
    "Transforma a un tipo en una cadena de caracteres de tipo ```str````.\n",
    "\n",
    "Prácticamente todos los tipos pueden ser transformados en una cadena de caracteres.\n"
   ]
  },
  {
   "cell_type": "markdown",
   "metadata": {},
   "source": [
    "## El tipo ```list```.\n",
    "\n",
    "Las listas son colecciones ordenadas de varios tipos, los cuales son indexables numéricamente y son mutables.\n",
    "\n",
    "Se definen encerrando entre corchetes ```[``` ```]``` una sucesión de tipos separados por comas ```,```.\n",
    " \n",
    "La sintaxis es la siguiente:\n",
    " \n",
    "```\n",
    "[<tipo 1>, <tipo 2>, ..., <tipo n>] \n",
    "```\n",
    "\n",
    "**Ejemplos:**"
   ]
  },
  {
   "cell_type": "code",
   "execution_count": 71,
   "metadata": {},
   "outputs": [
    {
     "data": {
      "text/plain": [
       "[1, 2, 'tres', True, None]"
      ]
     },
     "execution_count": 71,
     "metadata": {},
     "output_type": "execute_result"
    }
   ],
   "source": [
    "[1, 2, \"tres\", True, None]"
   ]
  },
  {
   "cell_type": "code",
   "execution_count": 72,
   "metadata": {},
   "outputs": [
    {
     "data": {
      "text/plain": [
       "[None]"
      ]
     },
     "execution_count": 72,
     "metadata": {},
     "output_type": "execute_result"
    }
   ],
   "source": [
    "[None]"
   ]
  },
  {
   "cell_type": "code",
   "execution_count": 73,
   "metadata": {},
   "outputs": [
    {
     "data": {
      "text/plain": [
       "[]"
      ]
     },
     "execution_count": 73,
     "metadata": {},
     "output_type": "execute_result"
    }
   ],
   "source": [
    "[] # Lista vacia"
   ]
  },
  {
   "cell_type": "code",
   "execution_count": 74,
   "metadata": {},
   "outputs": [
    {
     "data": {
      "text/plain": [
       "[False, ['auto', 30, 'gasolina'], 73.12]"
      ]
     },
     "execution_count": 74,
     "metadata": {},
     "output_type": "execute_result"
    }
   ],
   "source": [
    "[False, ['auto', 30, 'gasolina'], 73.12] # Lista con una lista dentro"
   ]
  },
  {
   "cell_type": "markdown",
   "metadata": {},
   "source": [
    "### Indexado numérico.\n",
    "\n",
    "Las listas cuentan con un indexado numérico con el que  identifican a cada elemento que contienen mediante un número entero de 2 formas:\n",
    "\n",
    "* Índices positivos:  En los que el primer elemento del extremo izquierdo tiene el índice ```0```, el elemento a su derecha tiene el índice ```1``` y así sucesivamente en incrementos de uno  en uno hasta llegar al elemento del extremo derecho.\n",
    "* Índices negativos: En los que el primer elemento del extremo derecho tiene el índice ``-1``, el elemento a su izquierda tiene el índice ```-2``` y así sucesivamente en decrementos de uno en uno hasta llegar al elemento del extremo izquierdo.\n",
    "\n",
    "Para acceder a cada elemento mediante un índice se usa la siguiente sintaxis:\n",
    "\n",
    "```\n",
    "<lista>[<índice>]\n",
    "```\n",
    "\n",
    "Si se trata de acceder a un elemento con un índice que excede el tamaño de la lista, se obtendrá un error."
   ]
  },
  {
   "cell_type": "code",
   "execution_count": 75,
   "metadata": {},
   "outputs": [],
   "source": [
    "lista = [1, 2, 3, 4, 5, 6, 7, 8]"
   ]
  },
  {
   "cell_type": "code",
   "execution_count": 76,
   "metadata": {},
   "outputs": [
    {
     "data": {
      "text/plain": [
       "1"
      ]
     },
     "execution_count": 76,
     "metadata": {},
     "output_type": "execute_result"
    }
   ],
   "source": [
    "lista[0]"
   ]
  },
  {
   "cell_type": "code",
   "execution_count": 77,
   "metadata": {},
   "outputs": [
    {
     "data": {
      "text/plain": [
       "1"
      ]
     },
     "execution_count": 77,
     "metadata": {},
     "output_type": "execute_result"
    }
   ],
   "source": [
    "lista[-8]"
   ]
  },
  {
   "cell_type": "code",
   "execution_count": 78,
   "metadata": {},
   "outputs": [
    {
     "data": {
      "text/plain": [
       "5"
      ]
     },
     "execution_count": 78,
     "metadata": {},
     "output_type": "execute_result"
    }
   ],
   "source": [
    "lista[-4]"
   ]
  },
  {
   "cell_type": "markdown",
   "metadata": {},
   "source": [
    "###  Indíces anidados.\n",
    "\n",
    "En el caso de que un elemento seleccionado dentro de una colección indexables también sea una colección indexable, es posible realizar una indexación anidada colocando el índice a la derecha del índice superior.\n",
    "\n",
    "```\n",
    "<colección>[<indice 1>][<índice 2>]...[<índice n>]\n",
    "```"
   ]
  },
  {
   "cell_type": "code",
   "execution_count": 80,
   "metadata": {},
   "outputs": [],
   "source": [
    "lista = [[1, 2, 3, 4], False, ['cinco', 'seis', 'siete'], 8.]"
   ]
  },
  {
   "cell_type": "code",
   "execution_count": 82,
   "metadata": {},
   "outputs": [
    {
     "data": {
      "text/plain": [
       "['cinco', 'seis', 'siete']"
      ]
     },
     "execution_count": 82,
     "metadata": {},
     "output_type": "execute_result"
    }
   ],
   "source": [
    "lista[2]"
   ]
  },
  {
   "cell_type": "code",
   "execution_count": 83,
   "metadata": {},
   "outputs": [
    {
     "data": {
      "text/plain": [
       "'seis'"
      ]
     },
     "execution_count": 83,
     "metadata": {},
     "output_type": "execute_result"
    }
   ],
   "source": [
    "lista[2][1]"
   ]
  },
  {
   "cell_type": "code",
   "execution_count": 84,
   "metadata": {},
   "outputs": [
    {
     "data": {
      "text/plain": [
       "'i'"
      ]
     },
     "execution_count": 84,
     "metadata": {},
     "output_type": "execute_result"
    }
   ],
   "source": [
    "lista[2][1][-2]"
   ]
  },
  {
   "cell_type": "markdown",
   "metadata": {},
   "source": [
    "### Modificación de un elemento en una lista.\n",
    "\n",
    "Es posible modificar el contenido de un elemento en una lista mediante el operador de asignación ```=```. "
   ]
  },
  {
   "cell_type": "code",
   "execution_count": 85,
   "metadata": {},
   "outputs": [],
   "source": [
    "lista = [1, 2, 3, 4, 5, 6, 7, 8]"
   ]
  },
  {
   "cell_type": "code",
   "execution_count": 86,
   "metadata": {},
   "outputs": [],
   "source": [
    "lista[4] = \"hola\""
   ]
  },
  {
   "cell_type": "code",
   "execution_count": 87,
   "metadata": {},
   "outputs": [
    {
     "data": {
      "text/plain": [
       "[1, 2, 3, 4, 'hola', 6, 7, 8]"
      ]
     },
     "execution_count": 87,
     "metadata": {},
     "output_type": "execute_result"
    }
   ],
   "source": [
    "lista"
   ]
  },
  {
   "cell_type": "markdown",
   "metadata": {},
   "source": [
    "### Eliminación de un elemento en una lista.\n",
    "\n",
    "Para eliminar un elemento en una lista se utiliza la declaración ````del````. \n",
    "\n",
    "El elemento identificado mediante su posición será eliminado y en caso de que existan, se recorrerá el índice de los elementos a la derecha del elemento eliminado. \n",
    "\n",
    "La sintaxis es la siguiente:\n",
    "\n",
    "```\n",
    "del <lista>[<posición>]\n",
    "```"
   ]
  },
  {
   "cell_type": "code",
   "execution_count": 88,
   "metadata": {},
   "outputs": [],
   "source": [
    "lista = [1, 2, 3, 4, 5]"
   ]
  },
  {
   "cell_type": "code",
   "execution_count": 89,
   "metadata": {},
   "outputs": [],
   "source": [
    "del lista[1]"
   ]
  },
  {
   "cell_type": "code",
   "execution_count": 90,
   "metadata": {},
   "outputs": [
    {
     "data": {
      "text/plain": [
       "[1, 3, 4, 5]"
      ]
     },
     "execution_count": 90,
     "metadata": {},
     "output_type": "execute_result"
    }
   ],
   "source": [
    "lista"
   ]
  },
  {
   "cell_type": "markdown",
   "metadata": {},
   "source": [
    "### \"Slicing\" de listas.\n",
    "\n",
    "Es posible extraer una porción definida de elementos contenidos en una lista mediante el uso de rangos con la siguiente sintaxis.\n",
    "\n",
    "```\n",
    "<lista>[m:n]\n",
    "```\n",
    "\n",
    "En donde: \n",
    "\n",
    "* ```m``` es el índice inferior del rango.\n",
    "* ```n``` es el índice superior del rango.\n",
    "\n",
    "El resultado será un nuevo objeto de tipo ```list``` conteniendo los elementos que van del índice ```m``` a uno antes de ```n```."
   ]
  },
  {
   "cell_type": "code",
   "execution_count": 91,
   "metadata": {},
   "outputs": [],
   "source": [
    "lista = [1, 2, 3, 4, 5, 6, 7, 8, 9, 10]"
   ]
  },
  {
   "cell_type": "code",
   "execution_count": 92,
   "metadata": {},
   "outputs": [
    {
     "data": {
      "text/plain": [
       "[1, 2, 3, 4, 5]"
      ]
     },
     "execution_count": 92,
     "metadata": {},
     "output_type": "execute_result"
    }
   ],
   "source": [
    "lista[0:5]"
   ]
  },
  {
   "cell_type": "code",
   "execution_count": 93,
   "metadata": {},
   "outputs": [
    {
     "data": {
      "text/plain": [
       "[8, 9]"
      ]
     },
     "execution_count": 93,
     "metadata": {},
     "output_type": "execute_result"
    }
   ],
   "source": [
    "lista[-3:-1]"
   ]
  },
  {
   "cell_type": "code",
   "execution_count": 94,
   "metadata": {},
   "outputs": [
    {
     "data": {
      "text/plain": [
       "[1, 2, 3]"
      ]
     },
     "execution_count": 94,
     "metadata": {},
     "output_type": "execute_result"
    }
   ],
   "source": [
    "lista[0:3]"
   ]
  },
  {
   "cell_type": "code",
   "execution_count": 95,
   "metadata": {},
   "outputs": [
    {
     "data": {
      "text/plain": [
       "[1, 2, 3, 4, 5, 6, 7, 8, 9, 10]"
      ]
     },
     "execution_count": 95,
     "metadata": {},
     "output_type": "execute_result"
    }
   ],
   "source": [
    "lista[:]"
   ]
  },
  {
   "cell_type": "code",
   "execution_count": 96,
   "metadata": {},
   "outputs": [
    {
     "data": {
      "text/plain": [
       "[1, 3, 5, 7, 9]"
      ]
     },
     "execution_count": 96,
     "metadata": {},
     "output_type": "execute_result"
    }
   ],
   "source": [
    "lista[::2]"
   ]
  },
  {
   "cell_type": "markdown",
   "metadata": {},
   "source": [
    "### Métodos de Listas.\n",
    "\n",
    "Estos son algunos de los métodos en listas. Cabe hacer notar que estos métodos no crean un nuevo objeto, sino que afectan directamente al objeto al que pertenecen.\n",
    "\n",
    "#### _append()_.\n",
    "\n",
    "Añade al elemento que se ingresa como argumento al final del objeto tipo _list_.\n",
    "\n",
    "#### _insert()_.\n",
    "Añade en la posición correspondiente al número ingresado como primer argumento al elemento ingresado como segundo argumento, desplazando el resto de los elementos hacia la derecha.\n",
    "\n",
    "#### _remove()_.\n",
    "\n",
    "Elimina el primer elemento de izquierda a derecha que sea igual al objeto que se ingresa como argumento. Si el objeto no es encontrado, genera un _ValueError_.\n",
    "\n",
    "#### _reverse()_ .\n",
    "Invierte el orden del objeto tipo _list_.\n",
    "\n",
    "#### _sort()_.\n",
    "Ordena los elementos de la lista, en caso de que sea posible. Si no se especifica, se hace en orden ascendente; pero si se especifica el argumento _reverse=True_, puede hacerlo de forma descendente.\n",
    "\n",
    "####  _pop()_.\n",
    "Elimina el elemento contenido en el objeto tipo _list_ localizado en el índice que se ingresa como argumento y regresa su valor. Si no se indica la posición, se asume que el último elemento del objeto tipo _list_ es el indicado. En caso e que el objeto no contenga elementos, se generará un error de tipo _IndexError_.\n",
    "\n",
    "####  _extend()_.\n",
    "Añade al final del objeto cada uno de los elementos de un objeto iterable que es ingresado como argumento.\n",
    "\n",
    "#### _count()_.\n",
    "Cuenta el número de veces que aparece dentro del objeto tipo _list_ el objeto que se ingresa como argumento."
   ]
  },
  {
   "cell_type": "code",
   "execution_count": 97,
   "metadata": {},
   "outputs": [
    {
     "data": {
      "text/plain": [
       "[1, 2, 3, 4, 5, 6, 57]"
      ]
     },
     "execution_count": 97,
     "metadata": {},
     "output_type": "execute_result"
    }
   ],
   "source": [
    "lista = [1, 2, 3, 4, 5, 6]\n",
    "lista.append(57) # Agrega 57\n",
    "lista"
   ]
  },
  {
   "cell_type": "code",
   "execution_count": 98,
   "metadata": {},
   "outputs": [
    {
     "data": {
      "text/plain": [
       "[1, 2, 3, True, 4, 5, 6]"
      ]
     },
     "execution_count": 98,
     "metadata": {},
     "output_type": "execute_result"
    }
   ],
   "source": [
    "lista = [1, 2, 3, 4, 5, 6]\n",
    "lista.insert(3, True) # Inserta True en el indice 3\n",
    "lista"
   ]
  },
  {
   "cell_type": "code",
   "execution_count": 99,
   "metadata": {},
   "outputs": [
    {
     "data": {
      "text/plain": [
       "[1, 2, 4, 5, 4, 3, 2, 1, 0]"
      ]
     },
     "execution_count": 99,
     "metadata": {},
     "output_type": "execute_result"
    }
   ],
   "source": [
    "lista = [1, 2, 3, 4, 5, 4, 3, 2, 1, 0]\n",
    "lista.remove(3) # Remueve la primer coincidencia\n",
    "lista"
   ]
  },
  {
   "cell_type": "code",
   "execution_count": 100,
   "metadata": {},
   "outputs": [
    {
     "data": {
      "text/plain": [
       "[6, 5, 4, 3, 2, 1]"
      ]
     },
     "execution_count": 100,
     "metadata": {},
     "output_type": "execute_result"
    }
   ],
   "source": [
    "lista = [1, 2, 3, 4, 5, 6]\n",
    "lista.reverse() # Regresa una lista invertida\n",
    "lista"
   ]
  },
  {
   "cell_type": "code",
   "execution_count": 101,
   "metadata": {},
   "outputs": [
    {
     "data": {
      "text/plain": [
       "[False, True, 12.35, 15, 33]"
      ]
     },
     "execution_count": 101,
     "metadata": {},
     "output_type": "execute_result"
    }
   ],
   "source": [
    "lista = [15, True, 33, False, 12.35 ]\n",
    "lista.sort() # Ordena la lista\n",
    "lista"
   ]
  },
  {
   "cell_type": "code",
   "execution_count": 102,
   "metadata": {},
   "outputs": [
    {
     "data": {
      "text/plain": [
       "[33, 15, 12.35, True, False]"
      ]
     },
     "execution_count": 102,
     "metadata": {},
     "output_type": "execute_result"
    }
   ],
   "source": [
    "lista.sort(reverse=True) # Ordena la lista y los coloca de forma invertida\n",
    "lista"
   ]
  },
  {
   "cell_type": "code",
   "execution_count": 103,
   "metadata": {},
   "outputs": [
    {
     "data": {
      "text/plain": [
       "12"
      ]
     },
     "execution_count": 103,
     "metadata": {},
     "output_type": "execute_result"
    }
   ],
   "source": [
    "lista = [15, True, 33, False, 12]\n",
    "lista.pop() # Elimina el ultimo elemento de la lista"
   ]
  },
  {
   "cell_type": "code",
   "execution_count": 104,
   "metadata": {},
   "outputs": [
    {
     "data": {
      "text/plain": [
       "[15, True, 33, False]"
      ]
     },
     "execution_count": 104,
     "metadata": {},
     "output_type": "execute_result"
    }
   ],
   "source": [
    "lista"
   ]
  },
  {
   "cell_type": "code",
   "execution_count": 105,
   "metadata": {},
   "outputs": [
    {
     "data": {
      "text/plain": [
       "True"
      ]
     },
     "execution_count": 105,
     "metadata": {},
     "output_type": "execute_result"
    }
   ],
   "source": [
    "lista.pop(1) # Elimina el elemento del indice 1"
   ]
  },
  {
   "cell_type": "code",
   "execution_count": 106,
   "metadata": {},
   "outputs": [
    {
     "data": {
      "text/plain": [
       "[15, 33, False]"
      ]
     },
     "execution_count": 106,
     "metadata": {},
     "output_type": "execute_result"
    }
   ],
   "source": [
    "lista"
   ]
  },
  {
   "cell_type": "code",
   "execution_count": 110,
   "metadata": {},
   "outputs": [
    {
     "data": {
      "text/plain": [
       "[15, True, 33, False, 12, 12, 4, 21]"
      ]
     },
     "execution_count": 110,
     "metadata": {},
     "output_type": "execute_result"
    }
   ],
   "source": [
    "lista = [15, True, 33, False, 12]\n",
    "lista.extend([12, 4, 21]) # Extiende la lista\n",
    "lista"
   ]
  },
  {
   "cell_type": "code",
   "execution_count": 108,
   "metadata": {},
   "outputs": [
    {
     "data": {
      "text/plain": [
       "[15, True, 33, False, 12, [12, 4, 21]]"
      ]
     },
     "execution_count": 108,
     "metadata": {},
     "output_type": "execute_result"
    }
   ],
   "source": [
    "lista = [15, True, 33, False, 12]\n",
    "lista.append([12, 4, 21]) # Agrega al último elemento una lista\n",
    "lista"
   ]
  },
  {
   "cell_type": "code",
   "execution_count": 111,
   "metadata": {},
   "outputs": [
    {
     "data": {
      "text/plain": [
       "21"
      ]
     },
     "execution_count": 111,
     "metadata": {},
     "output_type": "execute_result"
    }
   ],
   "source": [
    "lista[-1]"
   ]
  },
  {
   "cell_type": "markdown",
   "metadata": {},
   "source": [
    "## El tipo ```tuple```.\n",
    "\n",
    "Las tuplas son colecciones ordenadas de objetos, los cuales son indexables numéricamente e inmutables.\n",
    "\n",
    "Se definen encerrando entre paréntesis ```(``` ```)``` una sucesión de objetos separados por comas ```,```.\n",
    "\n",
    "La sintaxis es la siguiente:\n",
    " \n",
    "```\n",
    "(<tipo 1>, <tipo 2>, ..., <tipo n>) \n",
    "```\n",
    "\n",
    "**Ejemplos:**"
   ]
  },
  {
   "cell_type": "code",
   "execution_count": 112,
   "metadata": {},
   "outputs": [
    {
     "data": {
      "text/plain": [
       "(1, 2, 'tres', True, None)"
      ]
     },
     "execution_count": 112,
     "metadata": {},
     "output_type": "execute_result"
    }
   ],
   "source": [
    "1, 2, \"tres\", True, None"
   ]
  },
  {
   "cell_type": "code",
   "execution_count": 114,
   "metadata": {},
   "outputs": [],
   "source": [
    "tupla = (False, ['auto', 30, 'gasolina'], 73.12) # Tupla con una lista adentro"
   ]
  },
  {
   "cell_type": "code",
   "execution_count": 118,
   "metadata": {},
   "outputs": [
    {
     "ename": "TypeError",
     "evalue": "'tuple' object does not support item assignment",
     "output_type": "error",
     "traceback": [
      "\u001b[0;31m---------------------------------------------------------------------------\u001b[0m",
      "\u001b[0;31mTypeError\u001b[0m                                 Traceback (most recent call last)",
      "\u001b[0;32m<ipython-input-118-7f28e608a096>\u001b[0m in \u001b[0;36m<module>\u001b[0;34m\u001b[0m\n\u001b[0;32m----> 1\u001b[0;31m \u001b[0mtupla\u001b[0m\u001b[0;34m[\u001b[0m\u001b[0;36m0\u001b[0m\u001b[0;34m]\u001b[0m \u001b[0;34m=\u001b[0m \u001b[0;32mTrue\u001b[0m\u001b[0;34m\u001b[0m\u001b[0;34m\u001b[0m\u001b[0m\n\u001b[0m",
      "\u001b[0;31mTypeError\u001b[0m: 'tuple' object does not support item assignment"
     ]
    }
   ],
   "source": [
    "tupla[0] = True"
   ]
  },
  {
   "cell_type": "code",
   "execution_count": 117,
   "metadata": {},
   "outputs": [
    {
     "data": {
      "text/plain": [
       "(False, ['auto', 30, 'diesel'], 73.12)"
      ]
     },
     "execution_count": 117,
     "metadata": {},
     "output_type": "execute_result"
    }
   ],
   "source": [
    "tupla"
   ]
  },
  {
   "cell_type": "code",
   "execution_count": 119,
   "metadata": {},
   "outputs": [
    {
     "data": {
      "text/plain": [
       "()"
      ]
     },
     "execution_count": 119,
     "metadata": {},
     "output_type": "execute_result"
    }
   ],
   "source": [
    "() # Tupla vacia"
   ]
  },
  {
   "cell_type": "code",
   "execution_count": 120,
   "metadata": {},
   "outputs": [],
   "source": [
    "(None)"
   ]
  },
  {
   "cell_type": "code",
   "execution_count": 121,
   "metadata": {},
   "outputs": [
    {
     "ename": "TypeError",
     "evalue": "'tuple' object doesn't support item deletion",
     "output_type": "error",
     "traceback": [
      "\u001b[0;31m---------------------------------------------------------------------------\u001b[0m",
      "\u001b[0;31mTypeError\u001b[0m                                 Traceback (most recent call last)",
      "\u001b[0;32m<ipython-input-121-3f2f4c421fea>\u001b[0m in \u001b[0;36m<module>\u001b[0;34m\u001b[0m\n\u001b[1;32m      1\u001b[0m \u001b[0mtupla\u001b[0m \u001b[0;34m=\u001b[0m \u001b[0;34m(\u001b[0m\u001b[0;36m1\u001b[0m\u001b[0;34m,\u001b[0m \u001b[0;36m2\u001b[0m\u001b[0;34m,\u001b[0m \u001b[0;36m3\u001b[0m\u001b[0;34m,\u001b[0m \u001b[0;36m4\u001b[0m\u001b[0;34m,\u001b[0m \u001b[0;36m5\u001b[0m\u001b[0;34m,\u001b[0m \u001b[0;36m6\u001b[0m\u001b[0;34m,\u001b[0m \u001b[0;36m7\u001b[0m\u001b[0;34m,\u001b[0m \u001b[0;36m8\u001b[0m\u001b[0;34m)\u001b[0m\u001b[0;34m\u001b[0m\u001b[0;34m\u001b[0m\u001b[0m\n\u001b[0;32m----> 2\u001b[0;31m \u001b[0;32mdel\u001b[0m \u001b[0mtupla\u001b[0m\u001b[0;34m[\u001b[0m\u001b[0;36m3\u001b[0m\u001b[0;34m]\u001b[0m\u001b[0;34m\u001b[0m\u001b[0;34m\u001b[0m\u001b[0m\n\u001b[0m",
      "\u001b[0;31mTypeError\u001b[0m: 'tuple' object doesn't support item deletion"
     ]
    }
   ],
   "source": [
    "tupla = (1, 2, 3, 4, 5, 6, 7, 8)\n",
    "del tupla[3]"
   ]
  },
  {
   "cell_type": "code",
   "execution_count": 122,
   "metadata": {},
   "outputs": [
    {
     "ename": "TypeError",
     "evalue": "'tuple' object does not support item assignment",
     "output_type": "error",
     "traceback": [
      "\u001b[0;31m---------------------------------------------------------------------------\u001b[0m",
      "\u001b[0;31mTypeError\u001b[0m                                 Traceback (most recent call last)",
      "\u001b[0;32m<ipython-input-122-9d2c03956fa7>\u001b[0m in \u001b[0;36m<module>\u001b[0;34m\u001b[0m\n\u001b[1;32m      1\u001b[0m \u001b[0mtupla\u001b[0m \u001b[0;34m=\u001b[0m \u001b[0;34m(\u001b[0m\u001b[0;36m1\u001b[0m\u001b[0;34m,\u001b[0m \u001b[0;36m2\u001b[0m\u001b[0;34m,\u001b[0m \u001b[0;36m3\u001b[0m\u001b[0;34m,\u001b[0m \u001b[0;36m4\u001b[0m\u001b[0;34m,\u001b[0m \u001b[0;36m5\u001b[0m\u001b[0;34m,\u001b[0m \u001b[0;36m6\u001b[0m\u001b[0;34m,\u001b[0m \u001b[0;36m7\u001b[0m\u001b[0;34m,\u001b[0m \u001b[0;36m8\u001b[0m\u001b[0;34m)\u001b[0m\u001b[0;34m\u001b[0m\u001b[0;34m\u001b[0m\u001b[0m\n\u001b[0;32m----> 2\u001b[0;31m \u001b[0mtupla\u001b[0m\u001b[0;34m[\u001b[0m\u001b[0;36m4\u001b[0m\u001b[0;34m]\u001b[0m \u001b[0;34m=\u001b[0m \u001b[0;34m\"hola\"\u001b[0m\u001b[0;34m\u001b[0m\u001b[0;34m\u001b[0m\u001b[0m\n\u001b[0m",
      "\u001b[0;31mTypeError\u001b[0m: 'tuple' object does not support item assignment"
     ]
    }
   ],
   "source": [
    "tupla = (1, 2, 3, 4, 5, 6, 7, 8)\n",
    "tupla[4] = \"hola\""
   ]
  },
  {
   "cell_type": "markdown",
   "metadata": {},
   "source": [
    "### Las Tuplas pueden ser rebanados.\n",
    "\n",
    "El rebanado no implica una modificación interna de una *tuple*, sino la creación de un objeto nuevo y por lo tanto, este tipo de operaciones son permitidas. "
   ]
  },
  {
   "cell_type": "code",
   "execution_count": 123,
   "metadata": {},
   "outputs": [
    {
     "data": {
      "text/plain": [
       "(3, 4)"
      ]
     },
     "execution_count": 123,
     "metadata": {},
     "output_type": "execute_result"
    }
   ],
   "source": [
    "tupla = (1, 2, 3, 4, 5, 6)\n",
    "tupla[2:4]"
   ]
  },
  {
   "cell_type": "markdown",
   "metadata": {},
   "source": [
    "### Métodos de Tuplas.\n",
    "\n",
    "Las tuplas sólo cuentan con los métodos: \n",
    "* _count()_. \n",
    "* _index()_."
   ]
  },
  {
   "cell_type": "code",
   "execution_count": 124,
   "metadata": {},
   "outputs": [],
   "source": [
    "tupla = (1, 5, 7, 8, 4, 7, 7, 9)"
   ]
  },
  {
   "cell_type": "code",
   "execution_count": 125,
   "metadata": {
    "scrolled": true
   },
   "outputs": [
    {
     "data": {
      "text/plain": [
       "7"
      ]
     },
     "execution_count": 125,
     "metadata": {},
     "output_type": "execute_result"
    }
   ],
   "source": [
    "tupla.index(9)"
   ]
  },
  {
   "cell_type": "code",
   "execution_count": 126,
   "metadata": {},
   "outputs": [
    {
     "data": {
      "text/plain": [
       "3"
      ]
     },
     "execution_count": 126,
     "metadata": {},
     "output_type": "execute_result"
    }
   ],
   "source": [
    "tupla.count(7)"
   ]
  },
  {
   "cell_type": "markdown",
   "metadata": {},
   "source": [
    "## Transformaciones entre tipo _list_ y tipo _tuple_.\n",
    "\n",
    "Las listas y las tuplas pueden ser convertidos en objetos del otro tipo mediante las funciones _list()_ y _tuple()_.\n"
   ]
  },
  {
   "cell_type": "code",
   "execution_count": 129,
   "metadata": {},
   "outputs": [
    {
     "data": {
      "text/plain": [
       "(7, 8, 9)"
      ]
     },
     "execution_count": 129,
     "metadata": {},
     "output_type": "execute_result"
    }
   ],
   "source": [
    "tupla = (7, 8, 9)\n",
    "tupla"
   ]
  },
  {
   "cell_type": "code",
   "execution_count": 128,
   "metadata": {},
   "outputs": [
    {
     "data": {
      "text/plain": [
       "[7, 8, 9]"
      ]
     },
     "execution_count": 128,
     "metadata": {},
     "output_type": "execute_result"
    }
   ],
   "source": [
    "lista = list(tupla)\n",
    "lista"
   ]
  },
  {
   "cell_type": "code",
   "execution_count": 130,
   "metadata": {},
   "outputs": [
    {
     "data": {
      "text/plain": [
       "(7, 8, 9)"
      ]
     },
     "execution_count": 130,
     "metadata": {},
     "output_type": "execute_result"
    }
   ],
   "source": [
    "tuple(lista)"
   ]
  },
  {
   "cell_type": "markdown",
   "metadata": {},
   "source": [
    "## El tipo ```dict```.\n",
    "\n",
    "Los diccionarios son una colección mutable de pares *clave:valor* indexable mediante la clave de cada elemento.\n",
    "     \n",
    "Los pares están separados por comas ```,``` y delimitados por llaves ```{``` ```}```.\n",
    "\n",
    "La sintaxis para definir un tipo ```dict``` es: \n",
    " \n",
    "```\n",
    "{<clave 1>:<valor 1>, <clave 2>:<valor 2>, ... , <clave n>:<valor n>} \n",
    "```\n",
    " \n",
    "* La clave, a la cual también se le referirá como identificador, debe de ser de algún tipo inmutable.\n",
    "* El valor puede ser un caracter de cualquier tipo y puede repetirse dentro del objeto de tipo ```dict```."
   ]
  },
  {
   "cell_type": "code",
   "execution_count": 131,
   "metadata": {},
   "outputs": [
    {
     "data": {
      "text/plain": [
       "{'nulo': None, True: 'V', 2: [1, 2, 3], '2': False, ('x', 'y'): 15.3}"
      ]
     },
     "execution_count": 131,
     "metadata": {},
     "output_type": "execute_result"
    }
   ],
   "source": [
    "{'nulo':None, True:'V', 2:[1, 2, 3], '2':False, ('x', 'y'): 15.3}"
   ]
  },
  {
   "cell_type": "code",
   "execution_count": 132,
   "metadata": {},
   "outputs": [
    {
     "data": {
      "text/plain": [
       "{'nombre': 'Luis', 'apellido': 'Homobono', 'promedio': 9.5}"
      ]
     },
     "execution_count": 132,
     "metadata": {},
     "output_type": "execute_result"
    }
   ],
   "source": [
    "{'nombre':'Luis', 'apellido': 'Homobono', 'promedio':9.5}"
   ]
  },
  {
   "cell_type": "code",
   "execution_count": 133,
   "metadata": {},
   "outputs": [
    {
     "data": {
      "text/plain": [
       "{}"
      ]
     },
     "execution_count": 133,
     "metadata": {},
     "output_type": "execute_result"
    }
   ],
   "source": [
    "{} # Diccionario Vacio"
   ]
  },
  {
   "cell_type": "code",
   "execution_count": 134,
   "metadata": {},
   "outputs": [
    {
     "data": {
      "text/plain": [
       "{'nombre': 'Laura', 'apellido': 'Pérez', 'promedio': 7.5}"
      ]
     },
     "execution_count": 134,
     "metadata": {},
     "output_type": "execute_result"
    }
   ],
   "source": [
    "{'nombre':'Juan', 'apellido': 'Pérez', 'promedio':7.5, 'nombre':'Laura'} # Diccionario con una clave repetida"
   ]
  },
  {
   "cell_type": "code",
   "execution_count": 135,
   "metadata": {},
   "outputs": [
    {
     "data": {
      "text/plain": [
       "{'nombre': 'Juan', 'apellido': 'Pérez', (True, 1): 7.5}"
      ]
     },
     "execution_count": 135,
     "metadata": {},
     "output_type": "execute_result"
    }
   ],
   "source": [
    "{'nombre':'Juan', 'apellido': 'Pérez', (True, 1):7.5} # Error por la clave"
   ]
  },
  {
   "cell_type": "markdown",
   "metadata": {},
   "source": [
    "## Acceso y modificación de los elementos de diccionario.\n",
    "\n",
    "A diferencia de las listas y tuplas, los cuales usan índices numéricos, los diccionarios utilizan a los identificadores para acceder a los elementos que contienen.\n",
    "\n",
    "La sintaxis para acceder a un elemento de un tipo _dict_ es la siguiente:\n",
    "\n",
    "```\n",
    "<dict>[<clave>]\n",
    "\n",
    "```"
   ]
  },
  {
   "cell_type": "code",
   "execution_count": 136,
   "metadata": {},
   "outputs": [
    {
     "data": {
      "text/plain": [
       "'Fuentes'"
      ]
     },
     "execution_count": 136,
     "metadata": {},
     "output_type": "execute_result"
    }
   ],
   "source": [
    "persona = {\"nombre\": \"Luis\", \"primer_apellido\":\"Homobono\", \"segundo_apellido\":\"Fuentes\"}\n",
    "persona[\"segundo_apellido\"]"
   ]
  },
  {
   "cell_type": "code",
   "execution_count": 137,
   "metadata": {},
   "outputs": [
    {
     "ename": "KeyError",
     "evalue": "'correo'",
     "output_type": "error",
     "traceback": [
      "\u001b[0;31m---------------------------------------------------------------------------\u001b[0m",
      "\u001b[0;31mKeyError\u001b[0m                                  Traceback (most recent call last)",
      "\u001b[0;32m<ipython-input-137-d8e0e94bce3e>\u001b[0m in \u001b[0;36m<module>\u001b[0;34m\u001b[0m\n\u001b[0;32m----> 1\u001b[0;31m \u001b[0mpersona\u001b[0m\u001b[0;34m[\u001b[0m\u001b[0;34m\"correo\"\u001b[0m\u001b[0;34m]\u001b[0m\u001b[0;34m\u001b[0m\u001b[0;34m\u001b[0m\u001b[0m\n\u001b[0m",
      "\u001b[0;31mKeyError\u001b[0m: 'correo'"
     ]
    }
   ],
   "source": [
    "persona[\"correo\"]"
   ]
  },
  {
   "cell_type": "markdown",
   "metadata": {},
   "source": [
    "### Modificación o adición de un elemento contenido en un diccionario.\n",
    "\n",
    "Para modificar un elemento de un dicionario se utiliza el operador de asignación (_ =_ ).\n",
    "```\n",
    "<dict>[<identificador>] = <valor>\n",
    "```"
   ]
  },
  {
   "cell_type": "code",
   "execution_count": 138,
   "metadata": {},
   "outputs": [
    {
     "data": {
      "text/plain": [
       "{'nombre': 'Luis', 'primer_apellido': 'Homobono'}"
      ]
     },
     "execution_count": 138,
     "metadata": {},
     "output_type": "execute_result"
    }
   ],
   "source": [
    "persona = {'nombre':\"Luis\", 'primer_apellido':'Homobono'}\n",
    "persona"
   ]
  },
  {
   "cell_type": "code",
   "execution_count": 139,
   "metadata": {},
   "outputs": [
    {
     "data": {
      "text/plain": [
       "{'nombre': 'Eloy', 'primer_apellido': 'Homobono'}"
      ]
     },
     "execution_count": 139,
     "metadata": {},
     "output_type": "execute_result"
    }
   ],
   "source": [
    "persona['nombre'] = \"Eloy\"\n",
    "persona"
   ]
  },
  {
   "cell_type": "code",
   "execution_count": 140,
   "metadata": {},
   "outputs": [
    {
     "data": {
      "text/plain": [
       "{'nombre': 'Eloy',\n",
       " 'primer_apellido': 'Homobono',\n",
       " 'segundo_apellido': 'Fuentes'}"
      ]
     },
     "execution_count": 140,
     "metadata": {},
     "output_type": "execute_result"
    }
   ],
   "source": [
    "persona['segundo_apellido'] = \"Fuentes\"\n",
    "persona"
   ]
  },
  {
   "cell_type": "markdown",
   "metadata": {},
   "source": [
    "### Eliminación de un elemento contenido en un objeto de tipo _dict_.\n",
    "\n",
    "Para eliminar un elemento de un diccionario se utiliza la declaración _del_. \n",
    "\n",
    "```\n",
    "del <dict>[<identificador>]\n",
    "``` "
   ]
  },
  {
   "cell_type": "code",
   "execution_count": 141,
   "metadata": {},
   "outputs": [
    {
     "data": {
      "text/plain": [
       "{'primer_apellido': 'Homobono'}"
      ]
     },
     "execution_count": 141,
     "metadata": {},
     "output_type": "execute_result"
    }
   ],
   "source": [
    "persona = {'nombre':\"Luis\", 'primer_apellido':'Homobono'}\n",
    "del persona['nombre']\n",
    "persona"
   ]
  },
  {
   "cell_type": "markdown",
   "metadata": {},
   "source": [
    "### Metodos en Diccionarios\n",
    "\n",
    "#### El método _copy()_.\n",
    "Regresa un nuevo diccionario con los mismos elementos.\n",
    "\n",
    "#### El método _get()_.\n",
    "Regresa el valor que corresponde al identificador ingresado como primer argumento. En caso de no encontrar el identificador, regresa el valor que se indique como segundo argumento.\n",
    "\n",
    "#### El método _update()_.\n",
    "Sustituye y añade los elementos que se ingresan como argumento.\n",
    "\n",
    "#### El método _items()_.\n",
    "Regresa una colección iterable que genera una secuencia de valores de tipo _tuple_ con el indicador y el valor de cada elemento.\n",
    "\n",
    "#### El método _keys()_.\n",
    "Regresa una colección iterable que genera una secuencia que corresponde al identificador de cada elemento del diccionario.\n",
    "\n",
    "#### El método _values()_.\n",
    "Regresa una colección iterable que genera una secuencia que corresponde al valor de cada elemento del diccionario."
   ]
  },
  {
   "cell_type": "code",
   "execution_count": 142,
   "metadata": {},
   "outputs": [
    {
     "data": {
      "text/plain": [
       "{'nombre': 'Luis',\n",
       " 'primer_apellido': 'Homobono',\n",
       " 'segundo_apellido': 'Fuentes'}"
      ]
     },
     "execution_count": 142,
     "metadata": {},
     "output_type": "execute_result"
    }
   ],
   "source": [
    "persona = {\"nombre\": \"Luis\", \"primer_apellido\":\"Homobono\", \"segundo_apellido\":\"Fuentes\"}\n",
    "otra_persona = persona.copy()\n",
    "otra_persona"
   ]
  },
  {
   "cell_type": "code",
   "execution_count": 143,
   "metadata": {},
   "outputs": [
    {
     "data": {
      "text/plain": [
       "'Luis'"
      ]
     },
     "execution_count": 143,
     "metadata": {},
     "output_type": "execute_result"
    }
   ],
   "source": [
    "persona = {\"nombre\": \"Luis\", \"primer_apellido\":\"Homobono\", \"segundo_apellido\":\"Fuentes\"}\n",
    "persona.get(\"nombre\")"
   ]
  },
  {
   "cell_type": "code",
   "execution_count": 144,
   "metadata": {},
   "outputs": [
    {
     "data": {
      "text/plain": [
       "'No lo encontre'"
      ]
     },
     "execution_count": 144,
     "metadata": {},
     "output_type": "execute_result"
    }
   ],
   "source": [
    "persona.get(\"nombre1\", 'No lo encontre')"
   ]
  },
  {
   "cell_type": "code",
   "execution_count": 145,
   "metadata": {},
   "outputs": [
    {
     "data": {
      "text/plain": [
       "{'nombre': 'Eloy',\n",
       " 'primer_apellido': 'Homobono',\n",
       " 'segundo_apellido': 'Fuentes',\n",
       " 'codigo_postal': '020101'}"
      ]
     },
     "execution_count": 145,
     "metadata": {},
     "output_type": "execute_result"
    }
   ],
   "source": [
    "persona = {\"nombre\": \"Luis\", \"primer_apellido\":\"Homobono\", \"segundo_apellido\":\"Fuentes\"}\n",
    "persona.update({\"nombre\":\"Eloy\", \"codigo_postal\":\"020101\"})\n",
    "persona"
   ]
  },
  {
   "cell_type": "code",
   "execution_count": 146,
   "metadata": {},
   "outputs": [
    {
     "data": {
      "text/plain": [
       "dict_items([('nombre', 'Luis'), ('primer_apellido', 'Homobono'), ('segundo_apellido', 'Fuentes')])"
      ]
     },
     "execution_count": 146,
     "metadata": {},
     "output_type": "execute_result"
    }
   ],
   "source": [
    "persona = {\"nombre\": \"Luis\", \"primer_apellido\":\"Homobono\", \"segundo_apellido\":\"Fuentes\"}\n",
    "elementos = persona.items()\n",
    "elementos"
   ]
  },
  {
   "cell_type": "code",
   "execution_count": 147,
   "metadata": {},
   "outputs": [
    {
     "data": {
      "text/plain": [
       "dict_keys(['nombre', 'primer_apellido', 'segundo_apellido'])"
      ]
     },
     "execution_count": 147,
     "metadata": {},
     "output_type": "execute_result"
    }
   ],
   "source": [
    "persona = {\"nombre\": \"Luis\", \"primer_apellido\":\"Homobono\", \"segundo_apellido\":\"Fuentes\"}\n",
    "claves = persona.keys()\n",
    "claves"
   ]
  },
  {
   "cell_type": "code",
   "execution_count": 148,
   "metadata": {},
   "outputs": [
    {
     "data": {
      "text/plain": [
       "dict_values(['Luis', 'Homobono', 'Fuentes'])"
      ]
     },
     "execution_count": 148,
     "metadata": {},
     "output_type": "execute_result"
    }
   ],
   "source": [
    "persona = {\"nombre\": \"Luis\", \"primer_apellido\":\"Homobono\", \"segundo_apellido\":\"Fuentes\"}\n",
    "valores = persona.values()\n",
    "valores"
   ]
  },
  {
   "cell_type": "markdown",
   "metadata": {},
   "source": [
    "## La función ```len()```.\n",
    " \n",
    "Esta función permite conocer el número de elementos (el tamaño) que contiene una colección.\n",
    " \n",
    "```\n",
    "len(<colección>)\n",
    "```\n",
    "\n",
    "**Ejemplos:**"
   ]
  },
  {
   "cell_type": "code",
   "execution_count": 149,
   "metadata": {},
   "outputs": [
    {
     "data": {
      "text/plain": [
       "4"
      ]
     },
     "execution_count": 149,
     "metadata": {},
     "output_type": "execute_result"
    }
   ],
   "source": [
    "len('Eloy')"
   ]
  },
  {
   "cell_type": "code",
   "execution_count": 150,
   "metadata": {},
   "outputs": [
    {
     "data": {
      "text/plain": [
       "4"
      ]
     },
     "execution_count": 150,
     "metadata": {},
     "output_type": "execute_result"
    }
   ],
   "source": [
    "len([1, 2, [3, 4 , 6], None])"
   ]
  },
  {
   "cell_type": "code",
   "execution_count": 151,
   "metadata": {},
   "outputs": [
    {
     "data": {
      "text/plain": [
       "0"
      ]
     },
     "execution_count": 151,
     "metadata": {},
     "output_type": "execute_result"
    }
   ],
   "source": [
    "len({})"
   ]
  },
  {
   "cell_type": "code",
   "execution_count": 152,
   "metadata": {},
   "outputs": [],
   "source": [
    "persona = {'nombre':'Eloy', 'apellido': 'Homobono', 'promedio':9.5, 'gustos':'evolución'}"
   ]
  },
  {
   "cell_type": "code",
   "execution_count": 153,
   "metadata": {},
   "outputs": [
    {
     "data": {
      "text/plain": [
       "4"
      ]
     },
     "execution_count": 153,
     "metadata": {},
     "output_type": "execute_result"
    }
   ],
   "source": [
    "len(persona)"
   ]
  },
  {
   "cell_type": "code",
   "execution_count": 154,
   "metadata": {},
   "outputs": [
    {
     "data": {
      "text/plain": [
       "{'nombre': 'Julia',\n",
       " 'apellido': 'Homobono',\n",
       " 'promedio': 9.5,\n",
       " 'gustos': 'evolución'}"
      ]
     },
     "execution_count": 154,
     "metadata": {},
     "output_type": "execute_result"
    }
   ],
   "source": [
    "persona['nombre'] = 'Julia'\n",
    "persona"
   ]
  },
  {
   "cell_type": "markdown",
   "metadata": {},
   "source": [
    "## Funciones relativas a tipos de datos.\n",
    "\n",
    "### La función ```type()```.\n",
    "\n",
    "La función ```type()``` regresa el tipo de dato o clase a la que pertenece un objeto el cual es ingresado como argumento con la siguiente sintaxis:\n",
    " \n",
    "```\n",
    "type(<objeto>)\n",
    "```\n",
    "\n",
    "**Ejemplos:**"
   ]
  },
  {
   "cell_type": "code",
   "execution_count": 155,
   "metadata": {},
   "outputs": [
    {
     "data": {
      "text/plain": [
       "str"
      ]
     },
     "execution_count": 155,
     "metadata": {},
     "output_type": "execute_result"
    }
   ],
   "source": [
    "type(\"Hola\")"
   ]
  },
  {
   "cell_type": "code",
   "execution_count": 156,
   "metadata": {},
   "outputs": [
    {
     "data": {
      "text/plain": [
       "int"
      ]
     },
     "execution_count": 156,
     "metadata": {},
     "output_type": "execute_result"
    }
   ],
   "source": [
    "type(12)"
   ]
  },
  {
   "cell_type": "code",
   "execution_count": 157,
   "metadata": {},
   "outputs": [
    {
     "data": {
      "text/plain": [
       "float"
      ]
     },
     "execution_count": 157,
     "metadata": {},
     "output_type": "execute_result"
    }
   ],
   "source": [
    "type(12.)"
   ]
  },
  {
   "cell_type": "code",
   "execution_count": 158,
   "metadata": {},
   "outputs": [
    {
     "data": {
      "text/plain": [
       "complex"
      ]
     },
     "execution_count": 158,
     "metadata": {},
     "output_type": "execute_result"
    }
   ],
   "source": [
    "type(23j)"
   ]
  },
  {
   "cell_type": "code",
   "execution_count": 159,
   "metadata": {},
   "outputs": [
    {
     "data": {
      "text/plain": [
       "bool"
      ]
     },
     "execution_count": 159,
     "metadata": {},
     "output_type": "execute_result"
    }
   ],
   "source": [
    "type(True)"
   ]
  },
  {
   "cell_type": "code",
   "execution_count": 160,
   "metadata": {},
   "outputs": [
    {
     "data": {
      "text/plain": [
       "list"
      ]
     },
     "execution_count": 160,
     "metadata": {},
     "output_type": "execute_result"
    }
   ],
   "source": [
    "type([1, 2, 3])"
   ]
  },
  {
   "cell_type": "code",
   "execution_count": 161,
   "metadata": {},
   "outputs": [
    {
     "data": {
      "text/plain": [
       "tuple"
      ]
     },
     "execution_count": 161,
     "metadata": {},
     "output_type": "execute_result"
    }
   ],
   "source": [
    "type((1, 2, 3))"
   ]
  },
  {
   "cell_type": "code",
   "execution_count": 162,
   "metadata": {},
   "outputs": [
    {
     "data": {
      "text/plain": [
       "dict"
      ]
     },
     "execution_count": 162,
     "metadata": {},
     "output_type": "execute_result"
    }
   ],
   "source": [
    "type({'uno': '1'})"
   ]
  },
  {
   "cell_type": "markdown",
   "metadata": {},
   "source": [
    "# Condicionales.\n",
    "\n",
    "### *if* simple e indentación.\n",
    "\n",
    "La palabra clave *if* siempre evalúa una expresión lógica y en caso de que dicha expresión de por resultado el valor *True*, se ejecutará el código indentado justo por debajo del *if*. En caso de que la declaración resulte en el valor *False*, el intérprete ignorará el bloque de código indentado y éste continuará con la instrucción siguiente inmediata a la indentación.\n",
    "\n",
    "```\n",
    "<flujo principal>\n",
    "...\n",
    "...\n",
    "if <expresión lógica>:\n",
    "     <bloque inscrito a if>\n",
    "<flujo principal>\n",
    "```\n",
    "A continuación se muestra un diagrama de flujo que ejemplifica al uso del condicional *if* en su modo más simple:\n",
    "![if simple](imagenes/if-simple.png)"
   ]
  },
  {
   "cell_type": "code",
   "execution_count": 165,
   "metadata": {},
   "outputs": [
    {
     "name": "stdout",
     "output_type": "stream",
     "text": [
      "¿Qué animal es? lobo\n",
      "Sólo los gatos maullan.\n"
     ]
    }
   ],
   "source": [
    "animal = input(\"¿Qué animal es? \")\n",
    "if animal == \"gato\":\n",
    "    print(\"miau\")\n",
    "print (\"Sólo los gatos maullan.\")"
   ]
  },
  {
   "cell_type": "markdown",
   "metadata": {},
   "source": [
    "### Estructura *if*...*else*.\n",
    "\n",
    "Si el resultado de la expresión lógica evaluada por _if_ da por resultado _False_, se puede utilizar _else_ para ejecutar el bloque de código indentado debajo de esta expresión.\n",
    "\n",
    "\n",
    "```\n",
    "<flujo principal>\n",
    "...\n",
    "...\n",
    "if <expresión lógica>:\n",
    "     <bloque inscrito a if>\n",
    "else:\n",
    "    <bloque inscrito a else>\n",
    "<flujo principal>\n",
    "```\n",
    "A continuación se muestra un diagrama de flujo que ejemplifica al uso del condicional _if_ y _else_:\n",
    "\n",
    "![if-else](imagenes/if-else.png)"
   ]
  },
  {
   "cell_type": "code",
   "execution_count": 166,
   "metadata": {},
   "outputs": [
    {
     "name": "stdout",
     "output_type": "stream",
     "text": [
      "¿Qué animal es? lobo\n",
      "Este animal es un lobo\n",
      "No sé que ruido hace este animal.\n",
      "Sólo los gatos maullan.\n"
     ]
    }
   ],
   "source": [
    "animal = input(\"¿Qué animal es? \")\n",
    "print(\"Este animal es un \" + animal)\n",
    "if animal == \"gato\":\n",
    "    print(\"miau\")\n",
    "else:\n",
    "    print(\"No sé que ruido hace este animal.\")\n",
    "print(\"Sólo los gatos maullan.\")"
   ]
  },
  {
   "cell_type": "markdown",
   "metadata": {},
   "source": [
    "### Estructura *if*...*elif*...*else*.\n",
    "\n",
    "Es posible evaluar más de una expresión lógica mediante el uso de _elif_. En el caso de que exista más de una expresión lógica que de por resultado _True_, Python ejecutará solamente el código delimitado por la primera que ocurra.\n",
    "\n",
    "En caso de que ninguna de las condiciones de por resultado _True_ se puede utilizar _else_ al final de la estructura.\n",
    "\n",
    "```\n",
    "<flujo principal>\n",
    "...\n",
    "...\n",
    "if <expresión lógica>:\n",
    "     <bloque inscrito a if>\n",
    "elif <expresión lógica 1>:\n",
    "     <bloque inscrio a elif>\n",
    "elif <expresión lógica 2>:\n",
    "     <bloque inscrio a elif>\n",
    "...\n",
    "...\n",
    "elif <expresión lógica n>:\n",
    "     <bloque inscrio a elif>\n",
    "else:\n",
    "    <bloque inscrito a else>\n",
    "<flujo principal>\n",
    "```\n",
    "\n",
    "A continuación se muestra un diagrama de flujo que ejemplifica al uso del condicional _if_, _elif_ y _else_:\n",
    "\n",
    "![if-elif-else](imagenes/if-elif.png)"
   ]
  },
  {
   "cell_type": "code",
   "execution_count": 168,
   "metadata": {},
   "outputs": [
    {
     "name": "stdout",
     "output_type": "stream",
     "text": [
      "¿Qué animal sugiere? vaca\n",
      "Este animal es vaca.\n",
      "muuu\n",
      "Sólo los gatos maullan.\n"
     ]
    }
   ],
   "source": [
    "animal = input(\"¿Qué animal sugiere? \")\n",
    "print(\"Este animal es %s.\" % animal)\n",
    "if animal == \"gato\":\n",
    "    print(\"miau\")\n",
    "elif animal == \"perro\":\n",
    "    print(\"guau\")\n",
    "elif animal == \"pez\":\n",
    "    print (\"glub glub\")\n",
    "elif animal == \"gallo\":\n",
    "    print(\"kikiriki\")\n",
    "elif animal == \"vaca\":\n",
    "    print(\"muuu\")\n",
    "else:\n",
    "    print(\"No sé que ruido hace este animal.\")\n",
    "print(\"Sólo los gatos maullan.\")"
   ]
  },
  {
   "cell_type": "markdown",
   "metadata": {},
   "source": [
    "# Ciclos, iteraciones e interrupciones de ejecución.\n",
    "\n",
    "## Ciclos con _while_.\n",
    "\n",
    "Python cuenta con la palabra reservada *while* para ejecutar un bloque de código recursivamente mientras se cumpla una condición determinada. Cuando la expresión lógica evaluada por *while* sea *False* , el flujo de ejecución continuará sin ejecutar el bloque dentro de _while_.\n",
    "\n",
    "```\n",
    "<flujo principal>\n",
    "...\n",
    "...\n",
    "while <expresión lógica>:\n",
    "     <bloque inscrito a while>\n",
    "<flujo principal>\n",
    "```\n",
    "A continuación se muestra un diagrama de flujo que ejemplifica al uso de *while*:\n",
    "![while](imagenes/while.png)\n",
    "\n"
   ]
  },
  {
   "cell_type": "code",
   "execution_count": 169,
   "metadata": {},
   "outputs": [
    {
     "name": "stdout",
     "output_type": "stream",
     "text": [
      "Clave: Luis\n",
      "Intento 1. \n",
      " \n",
      "Clave: Eloy\n",
      "Intento 2. \n",
      " \n",
      "Clave: Luis\n",
      "Intento 3. \n",
      " \n",
      "Utilizaste 3 intentos.\n"
     ]
    }
   ],
   "source": [
    "entrada = \"\"\n",
    "suma = 0\n",
    "while suma < 3 and entrada != \"despedida\":\n",
    "    entrada = input(\"Clave: \")\n",
    "    suma += 1\n",
    "    print(\"Intento %d. \\n \" % suma)\n",
    "print(\"Utilizaste %d intentos.\" % suma)"
   ]
  },
  {
   "cell_type": "code",
   "execution_count": 170,
   "metadata": {},
   "outputs": [
    {
     "name": "stdout",
     "output_type": "stream",
     "text": [
      "Clave:luis\n",
      "Intento 4. \n",
      " \n",
      "Clave:Luis\n",
      "Intento 5. \n",
      " \n",
      "Clave:Gato\n",
      "Intento 6. \n",
      " \n",
      "Clave:fato\n",
      "Intento 7. \n",
      " \n",
      "Clave:dato\n",
      "Intento 8. \n",
      " \n",
      "Clave:ls\n",
      "Intento 9. \n",
      " \n",
      "Clave:ag\n",
      "Intento 10. \n",
      " \n",
      "Clave:\n",
      "Intento 11. \n",
      " \n",
      "Clave:\n",
      "Intento 12. \n",
      " \n",
      "Clave:\n",
      "Intento 13. \n",
      " \n",
      "Clave:\n",
      "Intento 14. \n",
      " \n",
      "Clave:\n",
      "Intento 15. \n",
      " \n",
      "Clave:\n",
      "Intento 16. \n",
      " \n",
      "Clave:\n",
      "Intento 17. \n",
      " \n",
      "Clave:\n",
      "Intento 18. \n",
      " \n",
      "Clave:\n",
      "Intento 19. \n",
      " \n",
      "Clave:\n",
      "Intento 20. \n",
      " \n",
      "Clave:\n",
      "Intento 21. \n",
      " \n",
      "Clave:\n",
      "Intento 22. \n",
      " \n",
      "Clave:\n",
      "Intento 23. \n",
      " \n",
      "Clave:Despedia\n",
      "Intento 24. \n",
      " \n",
      "Clave:despedida\n",
      "Tuviste 24 intentos fallidos.\n"
     ]
    }
   ],
   "source": [
    "while True:\n",
    "    entrada = input(\"Clave:\")\n",
    "    if entrada == \"despedida\":\n",
    "        break\n",
    "    suma = suma + 1\n",
    "    print(\"Intento %d. \\n \" % suma)\n",
    "print(\"Tuviste %d intentos fallidos.\" % suma)"
   ]
  },
  {
   "cell_type": "markdown",
   "metadata": {},
   "source": [
    "\n",
    "## Iteraciones con _for_... _in_.\n",
    "\n",
    "\n",
    "### Objetos iterables.\n",
    "\n",
    "Una de las grandes fortalezas de Python es su capacidad de realizar iteraciones de forma dinámica a partir de diversos tipos de objetos con la capacidad de ser iterables.\n",
    "\n",
    "Algunos de estos objetos son los de tipo:\n",
    "\n",
    "* _str_.\n",
    "* _list_.\n",
    "* _tuple_.\n",
    "* _dict_.\n",
    "\n",
    "Las iteraciones para cada uno de los tipos enunciados se estudiarán y analizarán caso por caso en secciones próximas.\n",
    "\n",
    "### La estructura *for* ... *in*.\n",
    "\n",
    "Para iterar un objeto iterable se utiliza la siguiente sintaxis:\n",
    "\n",
    "```\n",
    "for <contador> in <objeto iterable>:\n",
    "    ...\n",
    "    ...\n",
    "```\n",
    "\n",
    "### Iteraciones incrementales/decrementales.\n",
    "\n",
    "La forma más común de realizar iteraciones en otros lenguajes de programación es por medio algo similar al uso de la función *range().*\n",
    "\n",
    "### La función *range()*\n",
    "\n",
    "Para definir rangos numéricos se usa la función *range()*.\n",
    "\n",
    "* *range(*n, m, s*)* cumple:  rango >= n and rango < m en incrementos de s.\n",
    "* *range(*n, m*)* cumple:  rango >= n and rango < m en incrementos de 1.\n",
    "* *range(*m*)* cumple:  rango >= 0 and rango < m en incrementos de 1.\n"
   ]
  },
  {
   "cell_type": "code",
   "execution_count": 171,
   "metadata": {},
   "outputs": [
    {
     "name": "stdout",
     "output_type": "stream",
     "text": [
      "0\n",
      "1\n",
      "2\n",
      "3\n",
      "4\n",
      "5\n",
      "6\n",
      "7\n",
      "\n"
     ]
    }
   ],
   "source": [
    "for contador in range(8):\n",
    "    print(contador)\n",
    "print()"
   ]
  },
  {
   "cell_type": "code",
   "execution_count": 172,
   "metadata": {},
   "outputs": [
    {
     "name": "stdout",
     "output_type": "stream",
     "text": [
      "5\n",
      "6\n",
      "7\n",
      "8\n",
      "\n"
     ]
    }
   ],
   "source": [
    "for contador in range(5, 9):\n",
    "    print(contador)\n",
    "print()"
   ]
  },
  {
   "cell_type": "code",
   "execution_count": null,
   "metadata": {},
   "outputs": [],
   "source": [
    "for contador in range(26, 10, -4):\n",
    "    print(contador)"
   ]
  },
  {
   "cell_type": "code",
   "execution_count": null,
   "metadata": {},
   "outputs": [],
   "source": [
    "for item in ['uno', 'dos', 3]:\n",
    "    print(item)"
   ]
  },
  {
   "cell_type": "code",
   "execution_count": null,
   "metadata": {},
   "outputs": [],
   "source": [
    "for letra in \"Hola\":\n",
    "    print(letra)"
   ]
  },
  {
   "cell_type": "code",
   "execution_count": null,
   "metadata": {
    "collapsed": true
   },
   "outputs": [],
   "source": [
    "for valor in (1,2,3,4,4):\n",
    "    print(valor)"
   ]
  },
  {
   "cell_type": "markdown",
   "metadata": {},
   "source": [
    "<p style=\"text-align: center\"><a rel=\"license\" href=\"http://creativecommons.org/licenses/by/4.0/\"><img alt=\"Licencia Creative Commons\" style=\"border-width:0\" src=\"https://i.creativecommons.org/l/by/4.0/80x15.png\" /></a><br />Esta obra está bajo una <a rel=\"license\" href=\"http://creativecommons.org/licenses/by/4.0/\">Licencia Creative Commons Atribución 4.0 Internacional</a>.</p>\n",
    "<p style=\"text-align: center\">&copy; Biol. Luis Eloy Homobono Fuentes. 2019.</p>"
   ]
  }
 ],
 "metadata": {
  "celltoolbar": "Raw Cell Format",
  "kernelspec": {
   "display_name": "Python 3",
   "language": "python",
   "name": "python3"
  },
  "language_info": {
   "codemirror_mode": {
    "name": "ipython",
    "version": 3
   },
   "file_extension": ".py",
   "mimetype": "text/x-python",
   "name": "python",
   "nbconvert_exporter": "python",
   "pygments_lexer": "ipython3",
   "version": "3.6.8"
  }
 },
 "nbformat": 4,
 "nbformat_minor": 2
}
